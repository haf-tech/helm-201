{
 "cells": [
  {
   "cell_type": "markdown",
   "metadata": {},
   "source": [
    "# Helm 201\n",
    "\n",
    "A deep-dive into Helm (v3) and details like\n",
    "\n",
    "* Templating\n",
    "* Charts and Subcharts\n",
    "* Usage and internal structure in Kubernetes\n",
    "* Integrations"
   ]
  },
  {
   "cell_type": "code",
   "execution_count": 76,
   "metadata": {},
   "outputs": [],
   "source": [
    "wd_init = \"work/helm-init2\"\n",
    "\n"
   ]
  },
  {
   "cell_type": "code",
   "execution_count": 77,
   "metadata": {},
   "outputs": [
    {
     "name": "stdout",
     "output_type": "stream",
     "text": [
      "version.BuildInfo{Version:\"v3.8.0\", GitCommit:\"d14138609b01886f544b2025f5000351c9eb092e\", GitTreeState:\"clean\", GoVersion:\"go1.17.6\"}\n"
     ]
    }
   ],
   "source": [
    "!helm version\n"
   ]
  },
  {
   "cell_type": "markdown",
   "metadata": {},
   "source": [
    "---\n",
    "---\n",
    "\n",
    "## Init\n",
    "\n",
    "* Create a new template / Helm Chart"
   ]
  },
  {
   "cell_type": "code",
   "execution_count": 78,
   "metadata": {},
   "outputs": [
    {
     "name": "stdout",
     "output_type": "stream",
     "text": [
      "work/helm-init2\n",
      "Creating work/helm-init2/demo-helm-201\n",
      "\u001b[01;34mwork/helm-init2\u001b[00m\n",
      "└── \u001b[01;34mdemo-helm-201\u001b[00m\n",
      "    ├── Chart.yaml\n",
      "    ├── \u001b[01;34mcharts\u001b[00m\n",
      "    ├── \u001b[01;34mtemplates\u001b[00m\n",
      "    │   ├── NOTES.txt\n",
      "    │   ├── _helpers.tpl\n",
      "    │   ├── deployment.yaml\n",
      "    │   ├── hpa.yaml\n",
      "    │   ├── ingress.yaml\n",
      "    │   ├── service.yaml\n",
      "    │   ├── serviceaccount.yaml\n",
      "    │   └── \u001b[01;34mtests\u001b[00m\n",
      "    │       └── test-connection.yaml\n",
      "    └── values.yaml\n",
      "\n",
      "4 directories, 10 files\n"
     ]
    }
   ],
   "source": [
    "!echo $wd_init\n",
    "!mkdir -p $wd_init\n",
    "\n",
    "!helm create $wd_init/demo-helm-201\n",
    "\n",
    "!tree $wd_init"
   ]
  },
  {
   "cell_type": "markdown",
   "metadata": {},
   "source": [
    "## Chart Structure and Overview\n",
    "\n",
    "* `Chart.yaml` common meta information\n",
    "  * avoid using `appVersion` - handle version in env-specific value-files or as field which will be overwritten during helm execution"
   ]
  },
  {
   "cell_type": "code",
   "execution_count": 80,
   "metadata": {},
   "outputs": [
    {
     "name": "stdout",
     "output_type": "stream",
     "text": [
      "apiVersion: v2\n",
      "--\n",
      "# to the chart and its templates, including the app version.\n",
      "# Versions are expected to follow Semantic Versioning (https://semver.org/)\n",
      "version: 0.1.0\n",
      "--\n",
      "# follow Semantic Versioning. They should reflect the version the application is using.\n",
      "# It is recommended to use it with quotes.\n",
      "appVersion: \"1.16.0\"\n"
     ]
    }
   ],
   "source": [
    "!cat $wd_init/demo-helm-201/Chart.yaml | grep -B2 -i 'version:'"
   ]
  },
  {
   "cell_type": "markdown",
   "metadata": {},
   "source": [
    "----\n",
    "* Templating\n",
    "  * include output/result from namespaced functions\n",
    "  * Whitespaces and new lines, indent\n"
   ]
  },
  {
   "cell_type": "markdown",
   "metadata": {},
   "source": [
    "* Action (00)\n",
    "  * modify service template"
   ]
  },
  {
   "cell_type": "code",
   "execution_count": 85,
   "metadata": {},
   "outputs": [
    {
     "name": "stdout",
     "output_type": "stream",
     "text": [
      "Render template and generate Kubernetes resource files\n",
      "wrote work/out/common/demo-helm-201/templates/serviceaccount.yaml\n",
      "wrote work/out/common/demo-helm-201/templates/service.yaml\n",
      "wrote work/out/common/demo-helm-201/templates/deployment.yaml\n",
      "wrote work/out/common/demo-helm-201/templates/tests/test-connection.yaml\n",
      "\n"
     ]
    }
   ],
   "source": [
    "!echo \"Render template and generate Kubernetes resource files\"\n",
    "\n",
    "!helm template demo-helm-201-common $wd_init/demo-helm-201 -f $wd_init/demo-helm-201/values.yaml --output-dir=work/out/common"
   ]
  },
  {
   "cell_type": "markdown",
   "metadata": {},
   "source": [
    "----\n",
    "* Templating, Variables\n",
    "  * `.Values.*` holds all variables (from file and command line)\n",
    "  * `values.yaml` and any additional values-file will be merged\n",
    "\n",
    " \n"
   ]
  },
  {
   "cell_type": "markdown",
   "metadata": {},
   "source": [
    "* Action (01)\n",
    "  * `image.version`\n",
    "  * env-specific values file\n"
   ]
  },
  {
   "cell_type": "code",
   "execution_count": 84,
   "metadata": {},
   "outputs": [
    {
     "name": "stdout",
     "output_type": "stream",
     "text": [
      "Render template and generate Kubernetes resource files for *TEST* stage\n",
      "wrote work/out/test/demo-helm-201/templates/serviceaccount.yaml\n",
      "wrote work/out/test/demo-helm-201/templates/service.yaml\n",
      "wrote work/out/test/demo-helm-201/templates/deployment.yaml\n",
      "wrote work/out/test/demo-helm-201/templates/tests/test-connection.yaml\n",
      "\n"
     ]
    }
   ],
   "source": [
    "!echo \"Render template and generate Kubernetes resource files for *TEST* stage\"\n",
    "\n",
    "!helm template demo-helm-201-test $wd_init/demo-helm-201 -f $wd_init/demo-helm-201/values.test.yaml --output-dir=work/out/test"
   ]
  },
  {
   "cell_type": "markdown",
   "metadata": {},
   "source": [
    "---\n",
    "\n",
    "* Templating, Functions\n",
    "  * `_helpers.tpl` holds set of helper functions used in template files\n",
    "  * common Go template functions are included (and, or, len, ...)"
   ]
  },
  {
   "cell_type": "markdown",
   "metadata": {},
   "source": [
    "----\n",
    "* Templating, Functions\n",
    "  * `with` set the scope\n",
    "  * `range` iterate"
   ]
  },
  {
   "cell_type": "markdown",
   "metadata": {},
   "source": [
    "* Action (02)\n",
    "  * new `sa.yaml`\n",
    "  * values in `values.test.yaml`"
   ]
  },
  {
   "cell_type": "code",
   "execution_count": 87,
   "metadata": {},
   "outputs": [
    {
     "name": "stdout",
     "output_type": "stream",
     "text": [
      "Render template and generate Kubernetes resource files for *TEST* stage\n",
      "wrote work/out/test/demo-helm-201/templates/02_sa.yaml\n",
      "wrote work/out/test/demo-helm-201/templates/02_sa.yaml\n",
      "wrote work/out/test/demo-helm-201/templates/serviceaccount.yaml\n",
      "wrote work/out/test/demo-helm-201/templates/service.yaml\n",
      "wrote work/out/test/demo-helm-201/templates/deployment.yaml\n",
      "wrote work/out/test/demo-helm-201/templates/tests/test-connection.yaml\n",
      "\n"
     ]
    }
   ],
   "source": [
    "!echo \"Render template and generate Kubernetes resource files for *TEST* stage\"\n",
    "\n",
    "!helm template demo-helm-201-test $wd_init/demo-helm-201 -f $wd_init/demo-helm-201/values.test.yaml --output-dir=work/out/test"
   ]
  },
  {
   "cell_type": "markdown",
   "metadata": {},
   "source": [
    "----\n",
    "* Charts and Subcharts\n",
    "  * Subchart is a standalone chart\n",
    "  * only parent knows the subcharts / childrens\n",
    "  * ...and only parent can override fields"
   ]
  },
  {
   "cell_type": "markdown",
   "metadata": {},
   "source": [
    "* Action \n",
    "  * checkout existing chart\n",
    "  * create a new chart in `parent/chart` directory\n",
    "  * configure dependency"
   ]
  },
  {
   "cell_type": "code",
   "execution_count": 88,
   "metadata": {},
   "outputs": [
    {
     "name": "stdout",
     "output_type": "stream",
     "text": [
      "Print out existing chart (without subchart)\n",
      "\u001b[01;34mwork/helm-init2\u001b[00m\n",
      "└── \u001b[01;34mdemo-helm-201\u001b[00m\n",
      "    ├── Chart.yaml\n",
      "    ├── \u001b[01;34mcharts\u001b[00m\n",
      "    ├── \u001b[01;34mtemplates\u001b[00m\n",
      "    │   ├── 02_sa.yaml\n",
      "    │   ├── NOTES.txt\n",
      "    │   ├── _helpers.tpl\n",
      "    │   ├── deployment.yaml\n",
      "    │   ├── hpa.yaml\n",
      "    │   ├── ingress.yaml\n",
      "    │   ├── service.yaml\n",
      "    │   ├── serviceaccount.yaml\n",
      "    │   └── \u001b[01;34mtests\u001b[00m\n",
      "    │       └── test-connection.yaml\n",
      "    ├── values.test.yaml\n",
      "    └── values.yaml\n",
      "\n",
      "4 directories, 12 files\n"
     ]
    }
   ],
   "source": [
    "!echo \"Print out existing chart (without subchart)\"\n",
    "\n",
    "!tree $wd_init"
   ]
  },
  {
   "cell_type": "code",
   "execution_count": 89,
   "metadata": {},
   "outputs": [
    {
     "name": "stdout",
     "output_type": "stream",
     "text": [
      "Create new (sub)chart in the *charts* dir\n",
      "Creating work/helm-init2/demo-helm-201/charts/demo-subchart\n",
      "\u001b[01;34mwork/helm-init2\u001b[00m\n",
      "└── \u001b[01;34mdemo-helm-201\u001b[00m\n",
      "    ├── Chart.yaml\n",
      "    ├── \u001b[01;34mcharts\u001b[00m\n",
      "    │   └── \u001b[01;34mdemo-subchart\u001b[00m\n",
      "    │       ├── Chart.yaml\n",
      "    │       ├── \u001b[01;34mcharts\u001b[00m\n",
      "    │       ├── \u001b[01;34mtemplates\u001b[00m\n",
      "    │       └── values.yaml\n",
      "    ├── \u001b[01;34mtemplates\u001b[00m\n",
      "    │   ├── 02_sa.yaml\n",
      "    │   ├── NOTES.txt\n",
      "    │   ├── _helpers.tpl\n",
      "    │   ├── deployment.yaml\n",
      "    │   ├── hpa.yaml\n",
      "    │   ├── ingress.yaml\n",
      "    │   ├── service.yaml\n",
      "    │   ├── serviceaccount.yaml\n",
      "    │   └── \u001b[01;34mtests\u001b[00m\n",
      "    │       └── test-connection.yaml\n",
      "    ├── values.test.yaml\n",
      "    └── values.yaml\n",
      "\n",
      "7 directories, 14 files\n"
     ]
    }
   ],
   "source": [
    "!echo \"Create new (sub)chart in the *charts* dir\"\n",
    "\n",
    "!helm create $wd_init/demo-helm-201/charts/demo-subchart\n",
    "!rm -rf $wd_init/demo-helm-201/charts/demo-subchart/templates/*\n",
    "\n",
    "!tree $wd_init"
   ]
  },
  {
   "cell_type": "markdown",
   "metadata": {},
   "source": [
    "* Action (03)\n",
    "  * template for `ConfigMap` in subchart\n",
    "  * value file in subchart\n",
    "  * override options"
   ]
  },
  {
   "cell_type": "code",
   "execution_count": 90,
   "metadata": {},
   "outputs": [
    {
     "name": "stdout",
     "output_type": "stream",
     "text": [
      "Dry-Run subchart - with local value file\n",
      "install.go:178: [debug] Original chart version: \"\"\n",
      "install.go:195: [debug] CHART PATH: /Users/haddouti/repos/haf-tech/helm-201/work/helm-init2/demo-helm-201/charts/demo-subchart\n",
      "\n",
      "I0206 12:25:30.739877   62851 request.go:665] Waited for 1.116660086s due to client-side throttling, not priority and fairness, request: GET:https://c113-e.eu-de.containers.cloud.ibm.com:30919/apis/kubeflow.org/v1alpha1?timeout=32s\n",
      "NAME: demo-subchart-1644146728\n",
      "LAST DEPLOYED: Sun Feb  6 12:25:36 2022\n",
      "NAMESPACE: demo-helm\n",
      "STATUS: pending-install\n",
      "REVISION: 1\n",
      "TEST SUITE: None\n",
      "USER-SUPPLIED VALUES:\n",
      "{}\n",
      "\n",
      "COMPUTED VALUES:\n",
      "commonItem: mega-one\n",
      "\n",
      "HOOKS:\n",
      "MANIFEST:\n",
      "---\n",
      "# Source: demo-subchart/templates/03_configmap.yaml\n",
      "apiVersion: v1\n",
      "kind: ConfigMap\n",
      "metadata:\n",
      "  name: demo-subchart-1644146728-cm\n",
      "data:\n",
      "  item: mega-one\n",
      "\n"
     ]
    }
   ],
   "source": [
    "!echo \"Dry-Run subchart - with local value file\"\n",
    "\n",
    "!helm install --generate-name --dry-run --debug $wd_init/demo-helm-201/charts/demo-subchart"
   ]
  },
  {
   "cell_type": "code",
   "execution_count": 91,
   "metadata": {},
   "outputs": [
    {
     "name": "stdout",
     "output_type": "stream",
     "text": [
      "Render entire chart - with *pre* value file, to override subchart fields\n",
      "wrote work/out/pre/demo-helm-201/templates/02_sa.yaml\n",
      "wrote work/out/pre/demo-helm-201/templates/02_sa.yaml\n",
      "wrote work/out/pre/demo-helm-201/templates/serviceaccount.yaml\n",
      "wrote work/out/pre/demo-helm-201/charts/demo-subchart/templates/03_configmap.yaml\n",
      "wrote work/out/pre/demo-helm-201/templates/service.yaml\n",
      "wrote work/out/pre/demo-helm-201/templates/deployment.yaml\n",
      "wrote work/out/pre/demo-helm-201/templates/tests/test-connection.yaml\n",
      "\n"
     ]
    }
   ],
   "source": [
    "!echo \"Render entire chart - with *pre* value file, to override subchart fields\"\n",
    "\n",
    "!helm template demo-helm-201-pre $wd_init/demo-helm-201 -f $wd_init/demo-helm-201/values.pre.yaml --output-dir=work/out/pre"
   ]
  },
  {
   "cell_type": "code",
   "execution_count": 92,
   "metadata": {},
   "outputs": [
    {
     "name": "stdout",
     "output_type": "stream",
     "text": [
      "Render entire chart - with *test* value file, to *NOT* override subchart fields\n",
      "wrote work/out/test/demo-helm-201/templates/02_sa.yaml\n",
      "wrote work/out/test/demo-helm-201/templates/02_sa.yaml\n",
      "wrote work/out/test/demo-helm-201/templates/serviceaccount.yaml\n",
      "wrote work/out/test/demo-helm-201/charts/demo-subchart/templates/03_configmap.yaml\n",
      "wrote work/out/test/demo-helm-201/templates/service.yaml\n",
      "wrote work/out/test/demo-helm-201/templates/deployment.yaml\n",
      "wrote work/out/test/demo-helm-201/templates/tests/test-connection.yaml\n",
      "\n"
     ]
    }
   ],
   "source": [
    "!echo \"Render entire chart - with *test* value file, to *NOT* override subchart fields\"\n",
    "\n",
    "!helm template demo-helm-201-test $wd_init/demo-helm-201 -f $wd_init/demo-helm-201/values.test.yaml --output-dir=work/out/test"
   ]
  },
  {
   "cell_type": "markdown",
   "metadata": {},
   "source": [
    "---\n",
    "---\n",
    "\n",
    "## Life Cycle and Hooks\n",
    "\n",
    "Hooks allows to execute specific resource definitions at defined points in the Helm life cycle.\n",
    "Available hooks\n",
    "\n",
    "* `pre-install`\n",
    "* `post-install`\n",
    "* `pre-delete`\n",
    "* `post-delete`\n",
    "* `pre-upgrade`\n",
    "* `post-upgrade`\n",
    "* `pre-rollback`\n",
    "* `post-rollback`\n",
    "* `test`\n",
    "\n",
    "Examples\n",
    "\n",
    "* prepare the installation and create specific resources beforehand (ConfigMap, Job etc)\n",
    "* clean up database before uninstalling application\n",
    "* return a license or deregister/unsubscribe\n"
   ]
  },
  {
   "cell_type": "markdown",
   "metadata": {},
   "source": [
    "### Pre-Install and Post-Delete\n",
    "\n",
    "Example for `pre-install` and `post-delete` hook. Hooks are usual Kubernetes resource definitions with special annotations.\n",
    "\n",
    "```\n",
    "metadata:\n",
    "  annotations:\n",
    "    \"helm.sh/hook\": pre-install, post-delete\n",
    "    \"helm.sh/hook-weight\": \"-5\"\n",
    "    \"helm.sh/hook-delete-policy\": hook-succeeded\n",
    "```"
   ]
  },
  {
   "cell_type": "code",
   "execution_count": 93,
   "metadata": {},
   "outputs": [
    {
     "name": "stdout",
     "output_type": "stream",
     "text": [
      "Create new (sub)chart in the *charts* dir\n",
      "Creating work/helm-init2/demo-helm-201/charts/demo-hook\n",
      "\u001b[01;34mwork/helm-init2\u001b[00m\n",
      "└── \u001b[01;34mdemo-helm-201\u001b[00m\n",
      "    ├── Chart.yaml\n",
      "    ├── \u001b[01;34mcharts\u001b[00m\n",
      "    │   ├── \u001b[01;34mdemo-hook\u001b[00m\n",
      "    │   │   ├── Chart.yaml\n",
      "    │   │   ├── \u001b[01;34mcharts\u001b[00m\n",
      "    │   │   ├── \u001b[01;34mtemplates\u001b[00m\n",
      "    │   │   │   ├── NOTES.txt\n",
      "    │   │   │   ├── _helpers.tpl\n",
      "    │   │   │   ├── deployment.yaml\n",
      "    │   │   │   ├── hpa.yaml\n",
      "    │   │   │   └── serviceaccount.yaml\n",
      "    │   │   └── values.yaml\n",
      "    │   └── \u001b[01;34mdemo-subchart\u001b[00m\n",
      "    │       ├── Chart.yaml\n",
      "    │       ├── \u001b[01;34mcharts\u001b[00m\n",
      "    │       ├── \u001b[01;34mtemplates\u001b[00m\n",
      "    │       │   └── 03_configmap.yaml\n",
      "    │       └── values.yaml\n",
      "    ├── \u001b[01;34mtemplates\u001b[00m\n",
      "    │   ├── 02_sa.yaml\n",
      "    │   ├── NOTES.txt\n",
      "    │   ├── _helpers.tpl\n",
      "    │   ├── deployment.yaml\n",
      "    │   ├── hpa.yaml\n",
      "    │   ├── ingress.yaml\n",
      "    │   ├── service.yaml\n",
      "    │   ├── serviceaccount.yaml\n",
      "    │   └── \u001b[01;34mtests\u001b[00m\n",
      "    │       └── test-connection.yaml\n",
      "    ├── values.pre.yaml\n",
      "    ├── values.test.yaml\n",
      "    └── values.yaml\n",
      "\n",
      "10 directories, 23 files\n"
     ]
    }
   ],
   "source": [
    "!echo \"Create new (sub)chart in the *charts* dir\"\n",
    "\n",
    "!helm create $wd_init/demo-helm-201/charts/demo-hook\n",
    "!rm -rf $wd_init/demo-helm-201/charts/demo-hook/templates/ingress.yaml\n",
    "!rm -rf $wd_init/demo-helm-201/charts/demo-hook/templates/service.yaml\n",
    "!rm -rf $wd_init/demo-helm-201/charts/demo-hook/templates/tests\n",
    "\n",
    "\n",
    "!tree $wd_init"
   ]
  },
  {
   "cell_type": "markdown",
   "metadata": {},
   "source": [
    "---\n",
    "\n",
    "* Action (04)\n",
    "  * create 2 jobs for different hooks\n",
    "  * install and upgrade"
   ]
  },
  {
   "cell_type": "code",
   "execution_count": 95,
   "metadata": {},
   "outputs": [
    {
     "name": "stdout",
     "output_type": "stream",
     "text": [
      "Install subchart for hook testing\n",
      "some OCP permissions adjustments (for nginx)...\n",
      "clusterrole.rbac.authorization.k8s.io/system:openshift:scc:anyuid added: \"demo-hook-dev\"\n",
      "Release \"demo-hook-dev\" does not exist. Installing it now.\n",
      "I0206 12:37:58.365110   65109 request.go:665] Waited for 1.056190148s due to client-side throttling, not priority and fairness, request: GET:https://c113-e.eu-de.containers.cloud.ibm.com:30919/apis/apiserver.openshift.io/v1?timeout=32s\n",
      "NAME: demo-hook-dev\n",
      "LAST DEPLOYED: Sun Feb  6 12:38:04 2022\n",
      "NAMESPACE: demo-helm\n",
      "STATUS: deployed\n",
      "REVISION: 1\n",
      "TEST SUITE: None\n",
      "NOTES:\n",
      "1. Get the application URL by running these commands:\n",
      "  export POD_NAME=$(kubectl get pods --namespace demo-helm -l \"app.kubernetes.io/name=demo-hook,app.kubernetes.io/instance=demo-hook-dev\" -o jsonpath=\"{.items[0].metadata.name}\")\n",
      "  export CONTAINER_PORT=$(kubectl get pod --namespace demo-helm $POD_NAME -o jsonpath=\"{.spec.containers[0].ports[0].containerPort}\")\n",
      "  echo \"Visit http://127.0.0.1:8080 to use your application\"\n",
      "  kubectl --namespace demo-helm port-forward $POD_NAME 8080:$CONTAINER_PORT\n"
     ]
    }
   ],
   "source": [
    "!echo \"Install subchart for hook testing\"\n",
    "\n",
    "!echo \"some OCP permissions adjustments (for nginx)...\"\n",
    "!oc adm policy add-scc-to-user anyuid -z demo-hook-dev\n",
    "\n",
    "!helm upgrade --install demo-hook-dev $wd_init/demo-helm-201/charts/demo-hook -n demo-helm"
   ]
  },
  {
   "cell_type": "code",
   "execution_count": 96,
   "metadata": {},
   "outputs": [
    {
     "name": "stdout",
     "output_type": "stream",
     "text": [
      "Update subchart for hook testing now with job definitions\n",
      "I0206 12:39:11.932426   66142 request.go:665] Waited for 1.149813455s due to client-side throttling, not priority and fairness, request: GET:https://c113-e.eu-de.containers.cloud.ibm.com:30919/apis/template.openshift.io/v1?timeout=32s\n",
      "Release \"demo-hook-dev\" has been upgraded. Happy Helming!\n",
      "NAME: demo-hook-dev\n",
      "LAST DEPLOYED: Sun Feb  6 12:39:17 2022\n",
      "NAMESPACE: demo-helm\n",
      "STATUS: deployed\n",
      "REVISION: 2\n",
      "TEST SUITE: None\n",
      "NOTES:\n",
      "1. Get the application URL by running these commands:\n",
      "  export POD_NAME=$(kubectl get pods --namespace demo-helm -l \"app.kubernetes.io/name=demo-hook,app.kubernetes.io/instance=demo-hook-dev\" -o jsonpath=\"{.items[0].metadata.name}\")\n",
      "  export CONTAINER_PORT=$(kubectl get pod --namespace demo-helm $POD_NAME -o jsonpath=\"{.spec.containers[0].ports[0].containerPort}\")\n",
      "  echo \"Visit http://127.0.0.1:8080 to use your application\"\n",
      "  kubectl --namespace demo-helm port-forward $POD_NAME 8080:$CONTAINER_PORT\n"
     ]
    }
   ],
   "source": [
    "!echo \"Update subchart for hook testing now with job definitions\"\n",
    "\n",
    "!helm upgrade --install demo-hook-dev $wd_init/demo-helm-201/charts/demo-hook -n demo-helm"
   ]
  },
  {
   "cell_type": "markdown",
   "metadata": {},
   "source": [
    "---\n",
    "\n",
    "* Action\n",
    "  * current `pods` and `jobs`\n",
    "  * events\n",
    "  * clean-up and check out the job with `post-delete`"
   ]
  },
  {
   "cell_type": "code",
   "execution_count": 97,
   "metadata": {},
   "outputs": [
    {
     "name": "stdout",
     "output_type": "stream",
     "text": [
      "Delete subchart which triggers hook\n",
      "I0206 12:40:33.899998   67391 request.go:665] Waited for 1.146978078s due to client-side throttling, not priority and fairness, request: GET:https://c113-e.eu-de.containers.cloud.ibm.com:30919/apis/helm.openshift.io/v1beta1?timeout=32s\n",
      "release \"demo-hook-dev\" uninstalled\n"
     ]
    }
   ],
   "source": [
    "!echo \"Delete subchart which triggers hook\"\n",
    "\n",
    "!helm delete demo-hook-dev -n demo-helm"
   ]
  },
  {
   "cell_type": "markdown",
   "metadata": {},
   "source": [
    "---\n",
    "---\n",
    "\n",
    "## OCI Registry\n",
    "\n",
    "Helm 3 provides the option to store helm charts not only on a HTTP server, but also in a OCI Registry. This allows the option to hold the artifacts (container image and helm charts) in the same registry."
   ]
  },
  {
   "cell_type": "markdown",
   "metadata": {},
   "source": [
    "### Testing\n",
    "\n",
    "* Action\n",
    "  * use a local registry\n",
    "  * push a local helm chart\n",
    "  * install from OCI registry\n",
    "\n",
    "  "
   ]
  },
  {
   "cell_type": "code",
   "execution_count": 98,
   "metadata": {},
   "outputs": [
    {
     "name": "stdout",
     "output_type": "stream",
     "text": [
      "Run a local registry\n",
      "4a9a3d4acdc7fc793ba4b0e0638dbbc818ae2f8919d5577509f34858e122e15f\n"
     ]
    }
   ],
   "source": [
    "!echo \"Run a local registry\"\n",
    "\n",
    "!docker run -dp 5000:5000 --restart=always --name registry registry"
   ]
  },
  {
   "cell_type": "code",
   "execution_count": 99,
   "metadata": {},
   "outputs": [
    {
     "name": "stdout",
     "output_type": "stream",
     "text": [
      "Create helm package from the hook subchart\n",
      "...copy subchart in own dir for testing...\n",
      "...helm package...\n",
      "Successfully packaged chart and saved it to: work/helm-init2/demo-hook-1.0.3.tgz\n",
      "Successfully packaged chart and saved it to: work/helm-init2/demo-hook-1.0.4.tgz\n"
     ]
    }
   ],
   "source": [
    "!echo \"Create helm package from the hook subchart\"\n",
    "\n",
    "!echo \"...copy subchart in own dir for testing...\"\n",
    "!cp -r $wd_init/demo-helm-201/charts/demo-hook $wd_init/\n",
    "\n",
    "!echo \"...helm package...\"\n",
    "!helm package $wd_init/demo-hook --version 1.0.3 --destination $wd_init\n",
    "!helm package $wd_init/demo-hook --version 1.0.4 --destination $wd_init"
   ]
  },
  {
   "cell_type": "code",
   "execution_count": 100,
   "metadata": {},
   "outputs": [
    {
     "name": "stdout",
     "output_type": "stream",
     "text": [
      "Push helm package to registry\n",
      "...helm registry login...\n",
      "WARNING: Using --password via the CLI is insecure. Use --password-stdin.\n",
      "\u001b[36mINFO\u001b[0m[0000] Error logging in to endpoint, trying next endpoint  \u001b[36merror\u001b[0m=\"Get \\\"https://localhost:5000/v2/\\\": http: server gave HTTP response to HTTPS client\"\n",
      "Login Succeeded\n",
      "...helm package push...\n",
      "Pushed: localhost:5000/helm-charts/demo-hook:1.0.3\n",
      "Digest: sha256:bb0aac66e5d7ad67d87bc36e7cc754972b4c4249de9e175e3de2f6b5f38b5d07\n",
      "Pushed: localhost:5000/helm-charts/demo-hook:1.0.4\n",
      "Digest: sha256:a7e6e3b0a44a2fc23395c57d7f5d9046f59e5e4bc29e1610df34d247d5fcdc62\n"
     ]
    }
   ],
   "source": [
    "!echo \"Push helm package to registry\"\n",
    "\n",
    "!echo \"...helm registry login...\"\n",
    "!helm registry login -u testuser -p testpassword localhost:5000\n",
    "\n",
    "!echo \"...helm package push...\"\n",
    "!helm push $wd_init/demo-hook-1.0.3.tgz oci://localhost:5000/helm-charts\n",
    "!helm push $wd_init/demo-hook-1.0.4.tgz oci://localhost:5000/helm-charts"
   ]
  },
  {
   "cell_type": "code",
   "execution_count": 101,
   "metadata": {},
   "outputs": [
    {
     "name": "stdout",
     "output_type": "stream",
     "text": [
      "Verify helm package in OCI registry\n",
      "...show chart details...\n",
      "apiVersion: v2\n",
      "appVersion: 1.16.0\n",
      "description: A Helm chart for Kubernetes\n",
      "name: demo-hook\n",
      "type: application\n",
      "version: 1.0.4\n",
      "\n"
     ]
    }
   ],
   "source": [
    "!echo \"Verify helm package in OCI registry\"\n",
    "\n",
    "!echo \"...show chart details...\"\n",
    "!helm show chart oci://localhost:5000/helm-charts/demo-hook\n"
   ]
  },
  {
   "cell_type": "code",
   "execution_count": 103,
   "metadata": {},
   "outputs": [
    {
     "name": "stdout",
     "output_type": "stream",
     "text": [
      "Install (render) helm package directly from OCI registry\n",
      "...render existing chart from registry...\n",
      "wrote work/out/oci/demo-hook/templates/serviceaccount.yaml\n",
      "wrote work/out/oci/demo-hook/templates/deployment.yaml\n",
      "wrote work/out/oci/demo-hook/templates/04_job.yaml\n",
      "wrote work/out/oci/demo-hook/templates/04_job.yaml\n",
      "wrote work/out/oci/demo-hook/templates/04_job.yaml\n",
      "\n",
      "...try to render non-existing chart from registry...\n",
      "Error: failed to download \"oci://localhost:5000/helm-charts/demo-hook\" at version \"2.2.2\"\n"
     ]
    }
   ],
   "source": [
    "!echo \"Install (render) helm package directly from OCI registry\"\n",
    "\n",
    "!echo \"...render existing chart from registry...\"\n",
    "!helm template release-demo-hook-oci oci://localhost:5000/helm-charts/demo-hook --version 1.0.3 --output-dir=work/out/oci\n",
    "\n",
    "!echo \"...try to render non-existing chart from registry...\"\n",
    "!helm template release-demo-hook-oci oci://localhost:5000/helm-charts/demo-hook --version 2.2.2 --output-dir=work/out/oci\n"
   ]
  },
  {
   "cell_type": "markdown",
   "metadata": {},
   "source": [
    "---\n",
    "---\n",
    "\n",
    "## Misc\n",
    "\n",
    "Some additional details\n"
   ]
  },
  {
   "cell_type": "markdown",
   "metadata": {},
   "source": [
    "### Internal/Release State\n",
    "\n",
    "With Helm3 not Tiller exists anymore. All configuration and release state, including value files, is now stored in a `Secret` instead of a `ConfigMap`.\n"
   ]
  },
  {
   "cell_type": "code",
   "execution_count": null,
   "metadata": {},
   "outputs": [],
   "source": [
    "!echo \"Install subchart\"\n",
    "\n",
    "!helm upgrade --install release-demo-hook-state $wd_init/demo-helm-201/charts/demo-hook -n demo-helm"
   ]
  },
  {
   "cell_type": "code",
   "execution_count": null,
   "metadata": {},
   "outputs": [],
   "source": [
    "!echo \"List all existing helm releases\"\n",
    "\n",
    "!helm list"
   ]
  },
  {
   "cell_type": "code",
   "execution_count": null,
   "metadata": {},
   "outputs": [],
   "source": [
    "!echo \"Print out release information from Helm Release Secret\"\n",
    "\n",
    "!oc get secret sh.helm.release.v1.release-demo-hook-state.v1 -o jsonpath='{.data.release}' | base64 --decode | base64 --decode | gunzip -c | jq"
   ]
  },
  {
   "cell_type": "markdown",
   "metadata": {},
   "source": [
    "### Helm Upgrade and force re-deployment\n",
    "\n",
    "Helm determines the relevant changes and updates only the necessary resources. In case the content of a `ConfigMap` changed, but not the image version, a redeployment or restart of the deployment will be not triggered.\n",
    "To trigger a redeployment a relation between `ConfigMap` content and `Deployment` is needed\n",
    "\n",
    "```\n",
    "kind: Deployment\n",
    "spec:\n",
    "  template:\n",
    "    metadata:\n",
    "      annotations:\n",
    "        checksum/config: {{ include (print $.Template.BasePath \"/configmap.yaml\") . | sha256sum }}\n",
    "```\n",
    "\n",
    "The idea is, that the `Deployment` contains an annotation with a checksum of the related `ConfigMap`. Any changes in the content, results in an other `sha256sum`, results in an other annotation, which results in modified `Deployment` definition."
   ]
  },
  {
   "cell_type": "markdown",
   "metadata": {},
   "source": [
    "### VS Code Extensions\n",
    "\n",
    "* `yaml`\n",
    "* `kubernetes` understands also the helm template syntax"
   ]
  },
  {
   "cell_type": "markdown",
   "metadata": {},
   "source": [
    "## Summary\n",
    "\n",
    "This was a walkthrough for Helm 201 with covering topics like\n",
    "\n",
    "* templating\n",
    "* charts and subcharts\n",
    "* OCI Registry"
   ]
  },
  {
   "cell_type": "markdown",
   "metadata": {},
   "source": [
    "## References\n",
    "\n",
    "* [Helm - Storage Provider - Secret instead ConfigMap](https://helm.sh/docs/topics/advanced/#storage-backends)\n",
    "* [Helm - (OCI) Registry](https://helm.sh/docs/topics/registries/)\n",
    "* [Helm - Best Practices](https://helm.sh/docs/chart_best_practices/conventions/)\n",
    "* [Helm - Template Guide](https://helm.sh/docs/chart_template_guide/getting_started/)"
   ]
  }
 ],
 "metadata": {
  "interpreter": {
   "hash": "aee8b7b246df8f9039afb4144a1f6fd8d2ca17a180786b69acc140d282b71a49"
  },
  "kernelspec": {
   "display_name": "Python 3.9.9 64-bit",
   "language": "python",
   "name": "python3"
  },
  "language_info": {
   "codemirror_mode": {
    "name": "ipython",
    "version": 3
   },
   "file_extension": ".py",
   "mimetype": "text/x-python",
   "name": "python",
   "nbconvert_exporter": "python",
   "pygments_lexer": "ipython3",
   "version": "3.9.9"
  },
  "orig_nbformat": 4
 },
 "nbformat": 4,
 "nbformat_minor": 2
}

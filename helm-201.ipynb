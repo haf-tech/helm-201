{
 "cells": [
  {
   "cell_type": "markdown",
   "metadata": {},
   "source": [
    "# Helm 201\n",
    "\n",
    "A deep-dive into Helm (v3) and details like\n",
    "\n",
    "* Templating\n",
    "* Charts and Subcharts\n",
    "* Usage and internal structure in Kubernetes\n",
    "* Integrations"
   ]
  },
  {
   "cell_type": "code",
   "execution_count": 59,
   "metadata": {},
   "outputs": [],
   "source": [
    "wd_init = \"work/helm-init\"\n",
    "\n"
   ]
  },
  {
   "cell_type": "code",
   "execution_count": 2,
   "metadata": {},
   "outputs": [
    {
     "name": "stdout",
     "output_type": "stream",
     "text": [
      "version.BuildInfo{Version:\"v3.1.3+2.el8\", GitCommit:\"4edcae3c96edf7fa6a3bcf93de6d85763aed1284\", GitTreeState:\"clean\", GoVersion:\"go1.13.4\"}\n"
     ]
    }
   ],
   "source": [
    "!helm3 version\n"
   ]
  },
  {
   "cell_type": "markdown",
   "metadata": {},
   "source": [
    "## Init\n",
    "\n",
    "* Create a new template / Helm Chart"
   ]
  },
  {
   "cell_type": "code",
   "execution_count": 3,
   "metadata": {},
   "outputs": [
    {
     "name": "stdout",
     "output_type": "stream",
     "text": [
      "work/helm-init\n",
      "Creating work/helm-init/demo-helm-201\n",
      "\u001b[01;34mwork/helm-init\u001b[00m\n",
      "└── \u001b[01;34mdemo-helm-201\u001b[00m\n",
      "    ├── Chart.yaml\n",
      "    ├── \u001b[01;34mcharts\u001b[00m\n",
      "    ├── \u001b[01;34mtemplates\u001b[00m\n",
      "    │   ├── NOTES.txt\n",
      "    │   ├── _helpers.tpl\n",
      "    │   ├── deployment.yaml\n",
      "    │   ├── ingress.yaml\n",
      "    │   ├── service.yaml\n",
      "    │   ├── serviceaccount.yaml\n",
      "    │   └── \u001b[01;34mtests\u001b[00m\n",
      "    │       └── test-connection.yaml\n",
      "    └── values.yaml\n",
      "\n",
      "4 directories, 9 files\n"
     ]
    }
   ],
   "source": [
    "!echo $wd_init\n",
    "!mkdir -p $wd_init\n",
    "\n",
    "!helm3 create $wd_init/demo-helm-201\n",
    "\n",
    "!tree $wd_init"
   ]
  },
  {
   "cell_type": "markdown",
   "metadata": {},
   "source": [
    "### Chart Structure and Overview\n",
    "\n",
    "* `Chart.yaml` common meta information\n",
    "  * avoid using `appVersion` - handle version in env-specific value-files or as field which will be overwritten during helm execution"
   ]
  },
  {
   "cell_type": "code",
   "execution_count": 10,
   "metadata": {},
   "outputs": [
    {
     "name": "stdout",
     "output_type": "stream",
     "text": [
      "apiVersion: v2\n",
      "--\n",
      "# This is the chart version. This version number should be incremented each time you make changes\n",
      "# to the chart and its templates, including the app version.\n",
      "version: 0.1.0\n",
      "--\n",
      "# This is the version number of the application being deployed. This version number should be\n",
      "# incremented each time you make changes to the application.\n",
      "appVersion: 1.16.0\n"
     ]
    }
   ],
   "source": [
    "!cat $wd_init/demo-helm-201/Chart.yaml | grep -B2 -i 'version:'"
   ]
  },
  {
   "cell_type": "markdown",
   "metadata": {},
   "source": [
    "----\n",
    "* Templating\n",
    "  * include output from namespaced functions\n",
    "  * Whitespaces and new lines, indent\n"
   ]
  },
  {
   "cell_type": "markdown",
   "metadata": {},
   "source": [
    "* Action (00)\n",
    "  * modify service template"
   ]
  },
  {
   "cell_type": "code",
   "execution_count": 30,
   "metadata": {},
   "outputs": [
    {
     "name": "stdout",
     "output_type": "stream",
     "text": [
      "Render template and generate Kubernetes resource files\n",
      "wrote work/out/common/demo-helm-201/templates/serviceaccount.yaml\n",
      "wrote work/out/common/demo-helm-201/templates/service.yaml\n",
      "wrote work/out/common/demo-helm-201/templates/deployment.yaml\n",
      "\n",
      "---\n",
      "# Source: demo-helm-201/templates/tests/test-connection.yaml\n",
      "apiVersion: v1\n",
      "kind: Pod\n",
      "metadata:\n",
      "  name: \"release-name-demo-helm-201-test-connection\"\n",
      "  labels:\n",
      "    helm.sh/chart: demo-helm-201-0.1.0\n",
      "    app.kubernetes.io/name: demo-helm-201\n",
      "    app.kubernetes.io/instance: release-name\n",
      "    app.kubernetes.io/version: \"1.16.0\"\n",
      "    app.kubernetes.io/managed-by: Helm\n",
      "  annotations:\n",
      "    \"helm.sh/hook\": test-success\n",
      "spec:\n",
      "  containers:\n",
      "    - name: wget\n",
      "      image: busybox\n",
      "      command: ['wget']\n",
      "      args: ['release-name-demo-helm-201:80']\n",
      "  restartPolicy: Never\n"
     ]
    }
   ],
   "source": [
    "!echo \"Render template and generate Kubernetes resource files\"\n",
    "\n",
    "!helm3 template release-name $wd_init/demo-helm-201 -f $wd_init/demo-helm-201/values.yaml --output-dir=work/out/common"
   ]
  },
  {
   "cell_type": "markdown",
   "metadata": {},
   "source": [
    "----\n",
    "* Templating, Variables\n",
    "  * `.Values.*` holds all variables (from file and command line)\n",
    "  * `values.yaml` and any additional values-file will be merged\n",
    "\n",
    " \n"
   ]
  },
  {
   "cell_type": "markdown",
   "metadata": {},
   "source": [
    "* Action (01)\n",
    "  * `image.version`\n",
    "  * env-specific values file\n"
   ]
  },
  {
   "cell_type": "code",
   "execution_count": 33,
   "metadata": {},
   "outputs": [
    {
     "name": "stdout",
     "output_type": "stream",
     "text": [
      "Render template and generate Kubernetes resource files for *TEST* stage\n",
      "wrote work/out/test/demo-helm-201/templates/serviceaccount.yaml\n",
      "wrote work/out/test/demo-helm-201/templates/service.yaml\n",
      "wrote work/out/test/demo-helm-201/templates/deployment.yaml\n",
      "\n",
      "---\n",
      "# Source: demo-helm-201/templates/tests/test-connection.yaml\n",
      "apiVersion: v1\n",
      "kind: Pod\n",
      "metadata:\n",
      "  name: \"release-name-test-demo-helm-201-test-connection\"\n",
      "  labels:\n",
      "    helm.sh/chart: demo-helm-201-0.1.0\n",
      "    app.kubernetes.io/name: demo-helm-201\n",
      "    app.kubernetes.io/instance: release-name-test\n",
      "    app.kubernetes.io/version: \"1.16.0\"\n",
      "    app.kubernetes.io/managed-by: Helm\n",
      "  annotations:\n",
      "    \"helm.sh/hook\": test-success\n",
      "spec:\n",
      "  containers:\n",
      "    - name: wget\n",
      "      image: busybox\n",
      "      command: ['wget']\n",
      "      args: ['release-name-test-demo-helm-201:8001']\n",
      "  restartPolicy: Never\n"
     ]
    }
   ],
   "source": [
    "!echo \"Render template and generate Kubernetes resource files for *TEST* stage\"\n",
    "\n",
    "!helm3 template release-name-test $wd_init/demo-helm-201 -f $wd_init/demo-helm-201/values.test.yaml --output-dir=work/out/test"
   ]
  },
  {
   "cell_type": "markdown",
   "metadata": {},
   "source": [
    "---\n",
    "\n",
    "* Templating, Functions\n",
    "  * `_helpers.tpl` holds set of helper functions used in template files\n",
    "  * common Go template functions are included (and, or, len, ...)"
   ]
  },
  {
   "cell_type": "markdown",
   "metadata": {},
   "source": [
    "----\n",
    "* Templating, Functions\n",
    "  * `with` set the scope\n",
    "  * `range` iterate"
   ]
  },
  {
   "cell_type": "markdown",
   "metadata": {},
   "source": [
    "* Action (02)\n",
    "  * new `sa.yaml`\n",
    "  * values in `values.test.yaml`"
   ]
  },
  {
   "cell_type": "code",
   "execution_count": 36,
   "metadata": {},
   "outputs": [
    {
     "name": "stdout",
     "output_type": "stream",
     "text": [
      "Render template and generate Kubernetes resource files for *TEST* stage\n",
      "wrote work/out/test/demo-helm-201/templates/sa.yaml\n",
      "wrote work/out/test/demo-helm-201/templates/sa.yaml\n",
      "wrote work/out/test/demo-helm-201/templates/serviceaccount.yaml\n",
      "wrote work/out/test/demo-helm-201/templates/service.yaml\n",
      "wrote work/out/test/demo-helm-201/templates/deployment.yaml\n",
      "\n",
      "---\n",
      "# Source: demo-helm-201/templates/tests/test-connection.yaml\n",
      "apiVersion: v1\n",
      "kind: Pod\n",
      "metadata:\n",
      "  name: \"release-name-test-demo-helm-201-test-connection\"\n",
      "  labels:\n",
      "    helm.sh/chart: demo-helm-201-0.1.0\n",
      "    app.kubernetes.io/name: demo-helm-201\n",
      "    app.kubernetes.io/instance: release-name-test\n",
      "    app.kubernetes.io/version: \"1.16.0\"\n",
      "    app.kubernetes.io/managed-by: Helm\n",
      "  annotations:\n",
      "    \"helm.sh/hook\": test-success\n",
      "spec:\n",
      "  containers:\n",
      "    - name: wget\n",
      "      image: busybox\n",
      "      command: ['wget']\n",
      "      args: ['release-name-test-demo-helm-201:8001']\n",
      "  restartPolicy: Never\n"
     ]
    }
   ],
   "source": [
    "!echo \"Render template and generate Kubernetes resource files for *TEST* stage\"\n",
    "\n",
    "!helm3 template release-name-test $wd_init/demo-helm-201 -f $wd_init/demo-helm-201/values.test.yaml --output-dir=work/out/test"
   ]
  },
  {
   "cell_type": "markdown",
   "metadata": {},
   "source": [
    "----\n",
    "* Charts and Subcharts\n",
    "  * Subchart is a standalone chart\n",
    "  * only parent knows the subcharts / childrens\n",
    "  * ...and only parent can override fields"
   ]
  },
  {
   "cell_type": "markdown",
   "metadata": {},
   "source": [
    "* Action \n",
    "  * checkout existing chart\n",
    "  * create a new chart in `parent/chart` directory\n",
    "  * configure dependency"
   ]
  },
  {
   "cell_type": "code",
   "execution_count": 37,
   "metadata": {},
   "outputs": [
    {
     "name": "stdout",
     "output_type": "stream",
     "text": [
      "Print out existing chart\n",
      "\u001b[01;34mwork/helm-init\u001b[00m\n",
      "└── \u001b[01;34mdemo-helm-201\u001b[00m\n",
      "    ├── Chart.yaml\n",
      "    ├── \u001b[01;34mcharts\u001b[00m\n",
      "    ├── \u001b[01;34mtemplates\u001b[00m\n",
      "    │   ├── NOTES.txt\n",
      "    │   ├── _helpers.tpl\n",
      "    │   ├── deployment.yaml\n",
      "    │   ├── ingress.yaml\n",
      "    │   ├── sa.yaml\n",
      "    │   ├── service.yaml\n",
      "    │   ├── serviceaccount.yaml\n",
      "    │   └── \u001b[01;34mtests\u001b[00m\n",
      "    │       └── test-connection.yaml\n",
      "    ├── values.test.yaml\n",
      "    └── values.yaml\n",
      "\n",
      "4 directories, 11 files\n"
     ]
    }
   ],
   "source": [
    "!echo \"Print out existing chart\"\n",
    "\n",
    "!tree $wd_init"
   ]
  },
  {
   "cell_type": "code",
   "execution_count": 40,
   "metadata": {},
   "outputs": [
    {
     "name": "stdout",
     "output_type": "stream",
     "text": [
      "Create new (sub)chart in the *charts* dir\n",
      "Creating work/helm-init/demo-helm-201/charts/demo-subchart\n",
      "\u001b[01;34mwork/helm-init\u001b[00m\n",
      "└── \u001b[01;34mdemo-helm-201\u001b[00m\n",
      "    ├── Chart.yaml\n",
      "    ├── \u001b[01;34mcharts\u001b[00m\n",
      "    │   └── \u001b[01;34mdemo-subchart\u001b[00m\n",
      "    │       ├── Chart.yaml\n",
      "    │       ├── \u001b[01;34mcharts\u001b[00m\n",
      "    │       ├── \u001b[01;34mtemplates\u001b[00m\n",
      "    │       └── values.yaml\n",
      "    ├── \u001b[01;34mtemplates\u001b[00m\n",
      "    │   ├── NOTES.txt\n",
      "    │   ├── _helpers.tpl\n",
      "    │   ├── deployment.yaml\n",
      "    │   ├── ingress.yaml\n",
      "    │   ├── sa.yaml\n",
      "    │   ├── service.yaml\n",
      "    │   ├── serviceaccount.yaml\n",
      "    │   └── \u001b[01;34mtests\u001b[00m\n",
      "    │       └── test-connection.yaml\n",
      "    ├── values.test.yaml\n",
      "    └── values.yaml\n",
      "\n",
      "7 directories, 13 files\n"
     ]
    }
   ],
   "source": [
    "!echo \"Create new (sub)chart in the *charts* dir\"\n",
    "\n",
    "!helm3 create $wd_init/demo-helm-201/charts/demo-subchart\n",
    "!rm -rf $wd_init/demo-helm-201/charts/demo-subchart/templates/*\n",
    "\n",
    "!tree $wd_init"
   ]
  },
  {
   "cell_type": "markdown",
   "metadata": {},
   "source": [
    "* Action (03)\n",
    "  * template for `ConfigMap` in subchart\n",
    "  * value file in subchart\n",
    "  * override options"
   ]
  },
  {
   "cell_type": "code",
   "execution_count": 43,
   "metadata": {},
   "outputs": [
    {
     "name": "stdout",
     "output_type": "stream",
     "text": [
      "Dry-Run subchart - with local value file\n",
      "install.go:158: [debug] Original chart version: \"\"\n",
      "install.go:175: [debug] CHART PATH: /Users/haddouti/repos/haf-tech/helm-201/work/helm-init/demo-helm-201/charts/demo-subchart\n",
      "\n",
      "NAME: demo-subchart-1644082592\n",
      "LAST DEPLOYED: Sat Feb  5 18:36:40 2022\n",
      "NAMESPACE: demo-helm\n",
      "STATUS: pending-install\n",
      "REVISION: 1\n",
      "TEST SUITE: None\n",
      "USER-SUPPLIED VALUES:\n",
      "{}\n",
      "\n",
      "COMPUTED VALUES:\n",
      "commonItem: mega-one\n",
      "\n",
      "HOOKS:\n",
      "MANIFEST:\n",
      "---\n",
      "# Source: demo-subchart/templates/03_configmap.yaml\n",
      "apiVersion: v1\n",
      "kind: ConfigMap\n",
      "metadata:\n",
      "  name: demo-subchart-1644082592-cm\n",
      "data:\n",
      "  item: mega-one\n",
      "\n"
     ]
    }
   ],
   "source": [
    "!echo \"Dry-Run subchart - with local value file\"\n",
    "\n",
    "!helm3 install --generate-name --dry-run --debug $wd_init/demo-helm-201/charts/demo-subchart"
   ]
  },
  {
   "cell_type": "code",
   "execution_count": 46,
   "metadata": {},
   "outputs": [
    {
     "name": "stdout",
     "output_type": "stream",
     "text": [
      "Dry-Run entire chart - with *pre* value file, to override subchart fields\n",
      "wrote work/out/pre/demo-helm-201/templates/sa.yaml\n",
      "wrote work/out/pre/demo-helm-201/templates/sa.yaml\n",
      "wrote work/out/pre/demo-helm-201/templates/serviceaccount.yaml\n",
      "wrote work/out/pre/demo-helm-201/charts/demo-subchart/templates/03_configmap.yaml\n",
      "wrote work/out/pre/demo-helm-201/templates/service.yaml\n",
      "wrote work/out/pre/demo-helm-201/templates/deployment.yaml\n",
      "\n",
      "---\n",
      "# Source: demo-helm-201/templates/tests/test-connection.yaml\n",
      "apiVersion: v1\n",
      "kind: Pod\n",
      "metadata:\n",
      "  name: \"release-name-pre-demo-helm-201-test-connection\"\n",
      "  labels:\n",
      "    helm.sh/chart: demo-helm-201-0.1.0\n",
      "    app.kubernetes.io/name: demo-helm-201\n",
      "    app.kubernetes.io/instance: release-name-pre\n",
      "    app.kubernetes.io/version: \"1.16.0\"\n",
      "    app.kubernetes.io/managed-by: Helm\n",
      "  annotations:\n",
      "    \"helm.sh/hook\": test-success\n",
      "spec:\n",
      "  containers:\n",
      "    - name: wget\n",
      "      image: busybox\n",
      "      command: ['wget']\n",
      "      args: ['release-name-pre-demo-helm-201:8001']\n",
      "  restartPolicy: Never\n"
     ]
    }
   ],
   "source": [
    "!echo \"Render entire chart - with *pre* value file, to override subchart fields\"\n",
    "\n",
    "!helm3 template release-name-pre $wd_init/demo-helm-201 -f $wd_init/demo-helm-201/values.pre.yaml --output-dir=work/out/pre"
   ]
  },
  {
   "cell_type": "code",
   "execution_count": 47,
   "metadata": {},
   "outputs": [
    {
     "name": "stdout",
     "output_type": "stream",
     "text": [
      "Render entire chart - with *test* value file, to *NOT* override subchart fields\n",
      "wrote work/out/test/demo-helm-201/templates/sa.yaml\n",
      "wrote work/out/test/demo-helm-201/templates/sa.yaml\n",
      "wrote work/out/test/demo-helm-201/templates/serviceaccount.yaml\n",
      "wrote work/out/test/demo-helm-201/charts/demo-subchart/templates/03_configmap.yaml\n",
      "wrote work/out/test/demo-helm-201/templates/service.yaml\n",
      "wrote work/out/test/demo-helm-201/templates/deployment.yaml\n",
      "\n",
      "---\n",
      "# Source: demo-helm-201/templates/tests/test-connection.yaml\n",
      "apiVersion: v1\n",
      "kind: Pod\n",
      "metadata:\n",
      "  name: \"release-name-test-demo-helm-201-test-connection\"\n",
      "  labels:\n",
      "    helm.sh/chart: demo-helm-201-0.1.0\n",
      "    app.kubernetes.io/name: demo-helm-201\n",
      "    app.kubernetes.io/instance: release-name-test\n",
      "    app.kubernetes.io/version: \"1.16.0\"\n",
      "    app.kubernetes.io/managed-by: Helm\n",
      "  annotations:\n",
      "    \"helm.sh/hook\": test-success\n",
      "spec:\n",
      "  containers:\n",
      "    - name: wget\n",
      "      image: busybox\n",
      "      command: ['wget']\n",
      "      args: ['release-name-test-demo-helm-201:8001']\n",
      "  restartPolicy: Never\n"
     ]
    }
   ],
   "source": [
    "!echo \"Render entire chart - with *test* value file, to *NOT* override subchart fields\"\n",
    "\n",
    "!helm3 template release-name-test $wd_init/demo-helm-201 -f $wd_init/demo-helm-201/values.test.yaml --output-dir=work/out/test"
   ]
  },
  {
   "cell_type": "markdown",
   "metadata": {},
   "source": [
    "## Life Cycle and Hooks\n",
    "\n",
    "Hooks allows to execute specific resource definitions at defined points in the Helm life cycle.\n",
    "Available hooks\n",
    "\n",
    "* `pre-install`\n",
    "* `post-install`\n",
    "* `pre-delete`\n",
    "* `post-delete`\n",
    "* `pre-upgrade`\n",
    "* `post-upgrade`\n",
    "* `pre-rollback`\n",
    "* `post-rollback`\n",
    "* `test`\n",
    "\n",
    "Examples\n",
    "\n",
    "* prepare the installation and create specific resources beforehand (ConfigMap, Job etc)\n",
    "* clean up database before uninstalling application\n"
   ]
  },
  {
   "cell_type": "markdown",
   "metadata": {},
   "source": [
    "### Pre-Install and Post-Delete\n",
    "\n",
    "Example for `pre-install` and `post-delete` hook. Hooks are usual Kubernetes resource definitions with special annotations.\n",
    "\n",
    "```\n",
    "metadata:\n",
    "  annotations:\n",
    "    \"helm.sh/hook\": pre-install, post-delete\n",
    "    \"helm.sh/hook-weight\": \"-5\"\n",
    "    \"helm.sh/hook-delete-policy\": hook-succeeded\n",
    "```"
   ]
  },
  {
   "cell_type": "code",
   "execution_count": 50,
   "metadata": {},
   "outputs": [
    {
     "name": "stdout",
     "output_type": "stream",
     "text": [
      "Create new (sub)chart in the *charts* dir\n",
      "Creating work/helm-init/demo-helm-201/charts/demo-hook\n",
      "\u001b[01;34mwork/helm-init\u001b[00m\n",
      "└── \u001b[01;34mdemo-helm-201\u001b[00m\n",
      "    ├── Chart.yaml\n",
      "    ├── \u001b[01;34mcharts\u001b[00m\n",
      "    │   ├── \u001b[01;34mdemo-hook\u001b[00m\n",
      "    │   │   ├── Chart.yaml\n",
      "    │   │   ├── \u001b[01;34mcharts\u001b[00m\n",
      "    │   │   ├── \u001b[01;34mtemplates\u001b[00m\n",
      "    │   │   │   ├── NOTES.txt\n",
      "    │   │   │   ├── _helpers.tpl\n",
      "    │   │   │   ├── deployment.yaml\n",
      "    │   │   │   └── serviceaccount.yaml\n",
      "    │   │   └── values.yaml\n",
      "    │   └── \u001b[01;34mdemo-subchart\u001b[00m\n",
      "    │       ├── Chart.yaml\n",
      "    │       ├── \u001b[01;34mcharts\u001b[00m\n",
      "    │       ├── \u001b[01;34mtemplates\u001b[00m\n",
      "    │       │   └── 03_configmap.yaml\n",
      "    │       └── values.yaml\n",
      "    ├── \u001b[01;34mtemplates\u001b[00m\n",
      "    │   ├── NOTES.txt\n",
      "    │   ├── _helpers.tpl\n",
      "    │   ├── deployment.yaml\n",
      "    │   ├── ingress.yaml\n",
      "    │   ├── sa.yaml\n",
      "    │   ├── service.yaml\n",
      "    │   ├── serviceaccount.yaml\n",
      "    │   └── \u001b[01;34mtests\u001b[00m\n",
      "    │       └── test-connection.yaml\n",
      "    ├── values.pre.yaml\n",
      "    ├── values.test.yaml\n",
      "    └── values.yaml\n",
      "\n",
      "10 directories, 21 files\n"
     ]
    }
   ],
   "source": [
    "!echo \"Create new (sub)chart in the *charts* dir\"\n",
    "\n",
    "!helm3 create $wd_init/demo-helm-201/charts/demo-hook\n",
    "!rm -rf $wd_init/demo-helm-201/charts/demo-hook/templates/ingress.yaml\n",
    "!rm -rf $wd_init/demo-helm-201/charts/demo-hook/templates/service.yaml\n",
    "!rm -rf $wd_init/demo-helm-201/charts/demo-hook/templates/tests\n",
    "\n",
    "\n",
    "!tree $wd_init"
   ]
  },
  {
   "cell_type": "markdown",
   "metadata": {},
   "source": [
    "* Action (04)\n",
    "  * create 2 jobs for different hooks"
   ]
  },
  {
   "cell_type": "code",
   "execution_count": 52,
   "metadata": {},
   "outputs": [
    {
     "name": "stdout",
     "output_type": "stream",
     "text": [
      "Install subchart for hook testing\n",
      "Release \"release-demo-hook-dev\" does not exist. Installing it now.\n",
      "NAME: release-demo-hook-dev\n",
      "LAST DEPLOYED: Sat Feb  5 19:13:12 2022\n",
      "NAMESPACE: demo-helm\n",
      "STATUS: deployed\n",
      "REVISION: 1\n",
      "TEST SUITE: None\n",
      "NOTES:\n",
      "1. Get the application URL by running these commands:\n",
      "  export POD_NAME=$(kubectl get pods --namespace demo-helm -l \"app.kubernetes.io/name=demo-hook,app.kubernetes.io/instance=release-demo-hook-dev\" -o jsonpath=\"{.items[0].metadata.name}\")\n",
      "  echo \"Visit http://127.0.0.1:8080 to use your application\"\n",
      "  kubectl --namespace demo-helm port-forward $POD_NAME 8080:80\n"
     ]
    }
   ],
   "source": [
    "!echo \"Install subchart for hook testing\"\n",
    "\n",
    "!echo \"some OCP permissions adjustments...\"\n",
    "!oc adm policy add-scc-to-user anyuid -z release-demo-hook-dev\n",
    "\n",
    "!helm3 upgrade --install release-demo-hook-dev $wd_init/demo-helm-201/charts/demo-hook -n demo-helm"
   ]
  },
  {
   "cell_type": "code",
   "execution_count": 57,
   "metadata": {},
   "outputs": [
    {
     "name": "stdout",
     "output_type": "stream",
     "text": [
      "Update subchart for hook testing now with job definitions\n",
      "Release \"release-demo-hook-dev\" has been upgraded. Happy Helming!\n",
      "NAME: release-demo-hook-dev\n",
      "LAST DEPLOYED: Sat Feb  5 19:31:55 2022\n",
      "NAMESPACE: demo-helm\n",
      "STATUS: deployed\n",
      "REVISION: 2\n",
      "TEST SUITE: None\n",
      "NOTES:\n",
      "1. Get the application URL by running these commands:\n",
      "  export POD_NAME=$(kubectl get pods --namespace demo-helm -l \"app.kubernetes.io/name=demo-hook,app.kubernetes.io/instance=release-demo-hook-dev\" -o jsonpath=\"{.items[0].metadata.name}\")\n",
      "  echo \"Visit http://127.0.0.1:8080 to use your application\"\n",
      "  kubectl --namespace demo-helm port-forward $POD_NAME 8080:80\n"
     ]
    }
   ],
   "source": [
    "!echo \"Update subchart for hook testing now with job definitions\"\n",
    "\n",
    "!helm3 upgrade --install release-demo-hook-dev $wd_init/demo-helm-201/charts/demo-hook -n demo-helm"
   ]
  },
  {
   "cell_type": "markdown",
   "metadata": {},
   "source": [
    "* Action\n",
    "  * current `pods` and `jobs`\n",
    "  * events"
   ]
  },
  {
   "cell_type": "code",
   "execution_count": 58,
   "metadata": {},
   "outputs": [
    {
     "name": "stdout",
     "output_type": "stream",
     "text": [
      "Delete subchart which triggers hook\n",
      "release \"release-demo-hook-dev\" uninstalled\n"
     ]
    }
   ],
   "source": [
    "!echo \"Delete subchart which triggers hook\"\n",
    "\n",
    "!helm3 delete release-demo-hook-dev -n demo-helm"
   ]
  },
  {
   "cell_type": "markdown",
   "metadata": {},
   "source": [
    "## OCI Registry\n",
    "\n",
    "Helm 3 provides the option to store helm charts not only on a HTTP server, but also in a OCI Registry. This allows the option to hold the artifacts (container image and helm charts) in the same registry."
   ]
  }
 ],
 "metadata": {
  "interpreter": {
   "hash": "aee8b7b246df8f9039afb4144a1f6fd8d2ca17a180786b69acc140d282b71a49"
  },
  "kernelspec": {
   "display_name": "Python 3.9.9 64-bit",
   "language": "python",
   "name": "python3"
  },
  "language_info": {
   "codemirror_mode": {
    "name": "ipython",
    "version": 3
   },
   "file_extension": ".py",
   "mimetype": "text/x-python",
   "name": "python",
   "nbconvert_exporter": "python",
   "pygments_lexer": "ipython3",
   "version": "3.9.9"
  },
  "orig_nbformat": 4
 },
 "nbformat": 4,
 "nbformat_minor": 2
}

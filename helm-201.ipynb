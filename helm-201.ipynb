{
 "cells": [
  {
   "cell_type": "markdown",
   "metadata": {},
   "source": [
    "# Helm 201\n",
    "\n",
    "A deep-dive into Helm (v3) and details like\n",
    "\n",
    "* Templating\n",
    "* Charts and Subcharts\n",
    "* Usage and internal structure in Kubernetes\n",
    "* Integrations"
   ]
  },
  {
   "cell_type": "code",
   "execution_count": 61,
   "metadata": {},
   "outputs": [],
   "source": [
    "wd_init = \"work/helm-init\"\n",
    "\n"
   ]
  },
  {
   "cell_type": "code",
   "execution_count": 2,
   "metadata": {},
   "outputs": [
    {
     "name": "stdout",
     "output_type": "stream",
     "text": [
      "version.BuildInfo{Version:\"v3.1.3+2.el8\", GitCommit:\"4edcae3c96edf7fa6a3bcf93de6d85763aed1284\", GitTreeState:\"clean\", GoVersion:\"go1.13.4\"}\n"
     ]
    }
   ],
   "source": [
    "!helm version\n"
   ]
  },
  {
   "cell_type": "markdown",
   "metadata": {},
   "source": [
    "---\n",
    "---\n",
    "\n",
    "## Init\n",
    "\n",
    "* Create a new template / Helm Chart"
   ]
  },
  {
   "cell_type": "code",
   "execution_count": 3,
   "metadata": {},
   "outputs": [
    {
     "name": "stdout",
     "output_type": "stream",
     "text": [
      "work/helm-init\n",
      "Creating work/helm-init/demo-helm-201\n",
      "\u001b[01;34mwork/helm-init\u001b[00m\n",
      "└── \u001b[01;34mdemo-helm-201\u001b[00m\n",
      "    ├── Chart.yaml\n",
      "    ├── \u001b[01;34mcharts\u001b[00m\n",
      "    ├── \u001b[01;34mtemplates\u001b[00m\n",
      "    │   ├── NOTES.txt\n",
      "    │   ├── _helpers.tpl\n",
      "    │   ├── deployment.yaml\n",
      "    │   ├── ingress.yaml\n",
      "    │   ├── service.yaml\n",
      "    │   ├── serviceaccount.yaml\n",
      "    │   └── \u001b[01;34mtests\u001b[00m\n",
      "    │       └── test-connection.yaml\n",
      "    └── values.yaml\n",
      "\n",
      "4 directories, 9 files\n"
     ]
    }
   ],
   "source": [
    "!echo $wd_init\n",
    "!mkdir -p $wd_init\n",
    "\n",
    "!helm create $wd_init/demo-helm-201\n",
    "\n",
    "!tree $wd_init"
   ]
  },
  {
   "cell_type": "markdown",
   "metadata": {},
   "source": [
    "## Chart Structure and Overview\n",
    "\n",
    "* `Chart.yaml` common meta information\n",
    "  * avoid using `appVersion` - handle version in env-specific value-files or as field which will be overwritten during helm execution"
   ]
  },
  {
   "cell_type": "code",
   "execution_count": 10,
   "metadata": {},
   "outputs": [
    {
     "name": "stdout",
     "output_type": "stream",
     "text": [
      "apiVersion: v2\n",
      "--\n",
      "# This is the chart version. This version number should be incremented each time you make changes\n",
      "# to the chart and its templates, including the app version.\n",
      "version: 0.1.0\n",
      "--\n",
      "# This is the version number of the application being deployed. This version number should be\n",
      "# incremented each time you make changes to the application.\n",
      "appVersion: 1.16.0\n"
     ]
    }
   ],
   "source": [
    "!cat $wd_init/demo-helm-201/Chart.yaml | grep -B2 -i 'version:'"
   ]
  },
  {
   "cell_type": "markdown",
   "metadata": {},
   "source": [
    "----\n",
    "* Templating\n",
    "  * include output from namespaced functions\n",
    "  * Whitespaces and new lines, indent\n"
   ]
  },
  {
   "cell_type": "markdown",
   "metadata": {},
   "source": [
    "* Action (00)\n",
    "  * modify service template"
   ]
  },
  {
   "cell_type": "code",
   "execution_count": 30,
   "metadata": {},
   "outputs": [
    {
     "name": "stdout",
     "output_type": "stream",
     "text": [
      "Render template and generate Kubernetes resource files\n",
      "wrote work/out/common/demo-helm-201/templates/serviceaccount.yaml\n",
      "wrote work/out/common/demo-helm-201/templates/service.yaml\n",
      "wrote work/out/common/demo-helm-201/templates/deployment.yaml\n",
      "\n",
      "---\n",
      "# Source: demo-helm-201/templates/tests/test-connection.yaml\n",
      "apiVersion: v1\n",
      "kind: Pod\n",
      "metadata:\n",
      "  name: \"release-name-demo-helm-201-test-connection\"\n",
      "  labels:\n",
      "    helm.sh/chart: demo-helm-201-0.1.0\n",
      "    app.kubernetes.io/name: demo-helm-201\n",
      "    app.kubernetes.io/instance: release-name\n",
      "    app.kubernetes.io/version: \"1.16.0\"\n",
      "    app.kubernetes.io/managed-by: Helm\n",
      "  annotations:\n",
      "    \"helm.sh/hook\": test-success\n",
      "spec:\n",
      "  containers:\n",
      "    - name: wget\n",
      "      image: busybox\n",
      "      command: ['wget']\n",
      "      args: ['release-name-demo-helm-201:80']\n",
      "  restartPolicy: Never\n"
     ]
    }
   ],
   "source": [
    "!echo \"Render template and generate Kubernetes resource files\"\n",
    "\n",
    "!helm template release-name $wd_init/demo-helm-201 -f $wd_init/demo-helm-201/values.yaml --output-dir=work/out/common"
   ]
  },
  {
   "cell_type": "markdown",
   "metadata": {},
   "source": [
    "----\n",
    "* Templating, Variables\n",
    "  * `.Values.*` holds all variables (from file and command line)\n",
    "  * `values.yaml` and any additional values-file will be merged\n",
    "\n",
    " \n"
   ]
  },
  {
   "cell_type": "markdown",
   "metadata": {},
   "source": [
    "* Action (01)\n",
    "  * `image.version`\n",
    "  * env-specific values file\n"
   ]
  },
  {
   "cell_type": "code",
   "execution_count": 33,
   "metadata": {},
   "outputs": [
    {
     "name": "stdout",
     "output_type": "stream",
     "text": [
      "Render template and generate Kubernetes resource files for *TEST* stage\n",
      "wrote work/out/test/demo-helm-201/templates/serviceaccount.yaml\n",
      "wrote work/out/test/demo-helm-201/templates/service.yaml\n",
      "wrote work/out/test/demo-helm-201/templates/deployment.yaml\n",
      "\n",
      "---\n",
      "# Source: demo-helm-201/templates/tests/test-connection.yaml\n",
      "apiVersion: v1\n",
      "kind: Pod\n",
      "metadata:\n",
      "  name: \"release-name-test-demo-helm-201-test-connection\"\n",
      "  labels:\n",
      "    helm.sh/chart: demo-helm-201-0.1.0\n",
      "    app.kubernetes.io/name: demo-helm-201\n",
      "    app.kubernetes.io/instance: release-name-test\n",
      "    app.kubernetes.io/version: \"1.16.0\"\n",
      "    app.kubernetes.io/managed-by: Helm\n",
      "  annotations:\n",
      "    \"helm.sh/hook\": test-success\n",
      "spec:\n",
      "  containers:\n",
      "    - name: wget\n",
      "      image: busybox\n",
      "      command: ['wget']\n",
      "      args: ['release-name-test-demo-helm-201:8001']\n",
      "  restartPolicy: Never\n"
     ]
    }
   ],
   "source": [
    "!echo \"Render template and generate Kubernetes resource files for *TEST* stage\"\n",
    "\n",
    "!helm template release-name-test $wd_init/demo-helm-201 -f $wd_init/demo-helm-201/values.test.yaml --output-dir=work/out/test"
   ]
  },
  {
   "cell_type": "markdown",
   "metadata": {},
   "source": [
    "---\n",
    "\n",
    "* Templating, Functions\n",
    "  * `_helpers.tpl` holds set of helper functions used in template files\n",
    "  * common Go template functions are included (and, or, len, ...)"
   ]
  },
  {
   "cell_type": "markdown",
   "metadata": {},
   "source": [
    "----\n",
    "* Templating, Functions\n",
    "  * `with` set the scope\n",
    "  * `range` iterate"
   ]
  },
  {
   "cell_type": "markdown",
   "metadata": {},
   "source": [
    "* Action (02)\n",
    "  * new `sa.yaml`\n",
    "  * values in `values.test.yaml`"
   ]
  },
  {
   "cell_type": "code",
   "execution_count": 36,
   "metadata": {},
   "outputs": [
    {
     "name": "stdout",
     "output_type": "stream",
     "text": [
      "Render template and generate Kubernetes resource files for *TEST* stage\n",
      "wrote work/out/test/demo-helm-201/templates/sa.yaml\n",
      "wrote work/out/test/demo-helm-201/templates/sa.yaml\n",
      "wrote work/out/test/demo-helm-201/templates/serviceaccount.yaml\n",
      "wrote work/out/test/demo-helm-201/templates/service.yaml\n",
      "wrote work/out/test/demo-helm-201/templates/deployment.yaml\n",
      "\n",
      "---\n",
      "# Source: demo-helm-201/templates/tests/test-connection.yaml\n",
      "apiVersion: v1\n",
      "kind: Pod\n",
      "metadata:\n",
      "  name: \"release-name-test-demo-helm-201-test-connection\"\n",
      "  labels:\n",
      "    helm.sh/chart: demo-helm-201-0.1.0\n",
      "    app.kubernetes.io/name: demo-helm-201\n",
      "    app.kubernetes.io/instance: release-name-test\n",
      "    app.kubernetes.io/version: \"1.16.0\"\n",
      "    app.kubernetes.io/managed-by: Helm\n",
      "  annotations:\n",
      "    \"helm.sh/hook\": test-success\n",
      "spec:\n",
      "  containers:\n",
      "    - name: wget\n",
      "      image: busybox\n",
      "      command: ['wget']\n",
      "      args: ['release-name-test-demo-helm-201:8001']\n",
      "  restartPolicy: Never\n"
     ]
    }
   ],
   "source": [
    "!echo \"Render template and generate Kubernetes resource files for *TEST* stage\"\n",
    "\n",
    "!helm template release-name-test $wd_init/demo-helm-201 -f $wd_init/demo-helm-201/values.test.yaml --output-dir=work/out/test"
   ]
  },
  {
   "cell_type": "markdown",
   "metadata": {},
   "source": [
    "----\n",
    "* Charts and Subcharts\n",
    "  * Subchart is a standalone chart\n",
    "  * only parent knows the subcharts / childrens\n",
    "  * ...and only parent can override fields"
   ]
  },
  {
   "cell_type": "markdown",
   "metadata": {},
   "source": [
    "* Action \n",
    "  * checkout existing chart\n",
    "  * create a new chart in `parent/chart` directory\n",
    "  * configure dependency"
   ]
  },
  {
   "cell_type": "code",
   "execution_count": 37,
   "metadata": {},
   "outputs": [
    {
     "name": "stdout",
     "output_type": "stream",
     "text": [
      "Print out existing chart\n",
      "\u001b[01;34mwork/helm-init\u001b[00m\n",
      "└── \u001b[01;34mdemo-helm-201\u001b[00m\n",
      "    ├── Chart.yaml\n",
      "    ├── \u001b[01;34mcharts\u001b[00m\n",
      "    ├── \u001b[01;34mtemplates\u001b[00m\n",
      "    │   ├── NOTES.txt\n",
      "    │   ├── _helpers.tpl\n",
      "    │   ├── deployment.yaml\n",
      "    │   ├── ingress.yaml\n",
      "    │   ├── sa.yaml\n",
      "    │   ├── service.yaml\n",
      "    │   ├── serviceaccount.yaml\n",
      "    │   └── \u001b[01;34mtests\u001b[00m\n",
      "    │       └── test-connection.yaml\n",
      "    ├── values.test.yaml\n",
      "    └── values.yaml\n",
      "\n",
      "4 directories, 11 files\n"
     ]
    }
   ],
   "source": [
    "!echo \"Print out existing chart (without subchart)\"\n",
    "\n",
    "!tree $wd_init"
   ]
  },
  {
   "cell_type": "code",
   "execution_count": 40,
   "metadata": {},
   "outputs": [
    {
     "name": "stdout",
     "output_type": "stream",
     "text": [
      "Create new (sub)chart in the *charts* dir\n",
      "Creating work/helm-init/demo-helm-201/charts/demo-subchart\n",
      "\u001b[01;34mwork/helm-init\u001b[00m\n",
      "└── \u001b[01;34mdemo-helm-201\u001b[00m\n",
      "    ├── Chart.yaml\n",
      "    ├── \u001b[01;34mcharts\u001b[00m\n",
      "    │   └── \u001b[01;34mdemo-subchart\u001b[00m\n",
      "    │       ├── Chart.yaml\n",
      "    │       ├── \u001b[01;34mcharts\u001b[00m\n",
      "    │       ├── \u001b[01;34mtemplates\u001b[00m\n",
      "    │       └── values.yaml\n",
      "    ├── \u001b[01;34mtemplates\u001b[00m\n",
      "    │   ├── NOTES.txt\n",
      "    │   ├── _helpers.tpl\n",
      "    │   ├── deployment.yaml\n",
      "    │   ├── ingress.yaml\n",
      "    │   ├── sa.yaml\n",
      "    │   ├── service.yaml\n",
      "    │   ├── serviceaccount.yaml\n",
      "    │   └── \u001b[01;34mtests\u001b[00m\n",
      "    │       └── test-connection.yaml\n",
      "    ├── values.test.yaml\n",
      "    └── values.yaml\n",
      "\n",
      "7 directories, 13 files\n"
     ]
    }
   ],
   "source": [
    "!echo \"Create new (sub)chart in the *charts* dir\"\n",
    "\n",
    "!helm create $wd_init/demo-helm-201/charts/demo-subchart\n",
    "!rm -rf $wd_init/demo-helm-201/charts/demo-subchart/templates/*\n",
    "\n",
    "!tree $wd_init"
   ]
  },
  {
   "cell_type": "markdown",
   "metadata": {},
   "source": [
    "* Action (03)\n",
    "  * template for `ConfigMap` in subchart\n",
    "  * value file in subchart\n",
    "  * override options"
   ]
  },
  {
   "cell_type": "code",
   "execution_count": 43,
   "metadata": {},
   "outputs": [
    {
     "name": "stdout",
     "output_type": "stream",
     "text": [
      "Dry-Run subchart - with local value file\n",
      "install.go:158: [debug] Original chart version: \"\"\n",
      "install.go:175: [debug] CHART PATH: /Users/haddouti/repos/haf-tech/helm-201/work/helm-init/demo-helm-201/charts/demo-subchart\n",
      "\n",
      "NAME: demo-subchart-1644082592\n",
      "LAST DEPLOYED: Sat Feb  5 18:36:40 2022\n",
      "NAMESPACE: demo-helm\n",
      "STATUS: pending-install\n",
      "REVISION: 1\n",
      "TEST SUITE: None\n",
      "USER-SUPPLIED VALUES:\n",
      "{}\n",
      "\n",
      "COMPUTED VALUES:\n",
      "commonItem: mega-one\n",
      "\n",
      "HOOKS:\n",
      "MANIFEST:\n",
      "---\n",
      "# Source: demo-subchart/templates/03_configmap.yaml\n",
      "apiVersion: v1\n",
      "kind: ConfigMap\n",
      "metadata:\n",
      "  name: demo-subchart-1644082592-cm\n",
      "data:\n",
      "  item: mega-one\n",
      "\n"
     ]
    }
   ],
   "source": [
    "!echo \"Dry-Run subchart - with local value file\"\n",
    "\n",
    "!helm install --generate-name --dry-run --debug $wd_init/demo-helm-201/charts/demo-subchart"
   ]
  },
  {
   "cell_type": "code",
   "execution_count": 46,
   "metadata": {},
   "outputs": [
    {
     "name": "stdout",
     "output_type": "stream",
     "text": [
      "Dry-Run entire chart - with *pre* value file, to override subchart fields\n",
      "wrote work/out/pre/demo-helm-201/templates/sa.yaml\n",
      "wrote work/out/pre/demo-helm-201/templates/sa.yaml\n",
      "wrote work/out/pre/demo-helm-201/templates/serviceaccount.yaml\n",
      "wrote work/out/pre/demo-helm-201/charts/demo-subchart/templates/03_configmap.yaml\n",
      "wrote work/out/pre/demo-helm-201/templates/service.yaml\n",
      "wrote work/out/pre/demo-helm-201/templates/deployment.yaml\n",
      "\n",
      "---\n",
      "# Source: demo-helm-201/templates/tests/test-connection.yaml\n",
      "apiVersion: v1\n",
      "kind: Pod\n",
      "metadata:\n",
      "  name: \"release-name-pre-demo-helm-201-test-connection\"\n",
      "  labels:\n",
      "    helm.sh/chart: demo-helm-201-0.1.0\n",
      "    app.kubernetes.io/name: demo-helm-201\n",
      "    app.kubernetes.io/instance: release-name-pre\n",
      "    app.kubernetes.io/version: \"1.16.0\"\n",
      "    app.kubernetes.io/managed-by: Helm\n",
      "  annotations:\n",
      "    \"helm.sh/hook\": test-success\n",
      "spec:\n",
      "  containers:\n",
      "    - name: wget\n",
      "      image: busybox\n",
      "      command: ['wget']\n",
      "      args: ['release-name-pre-demo-helm-201:8001']\n",
      "  restartPolicy: Never\n"
     ]
    }
   ],
   "source": [
    "!echo \"Render entire chart - with *pre* value file, to override subchart fields\"\n",
    "\n",
    "!helm template release-name-pre $wd_init/demo-helm-201 -f $wd_init/demo-helm-201/values.pre.yaml --output-dir=work/out/pre"
   ]
  },
  {
   "cell_type": "code",
   "execution_count": 47,
   "metadata": {},
   "outputs": [
    {
     "name": "stdout",
     "output_type": "stream",
     "text": [
      "Render entire chart - with *test* value file, to *NOT* override subchart fields\n",
      "wrote work/out/test/demo-helm-201/templates/sa.yaml\n",
      "wrote work/out/test/demo-helm-201/templates/sa.yaml\n",
      "wrote work/out/test/demo-helm-201/templates/serviceaccount.yaml\n",
      "wrote work/out/test/demo-helm-201/charts/demo-subchart/templates/03_configmap.yaml\n",
      "wrote work/out/test/demo-helm-201/templates/service.yaml\n",
      "wrote work/out/test/demo-helm-201/templates/deployment.yaml\n",
      "\n",
      "---\n",
      "# Source: demo-helm-201/templates/tests/test-connection.yaml\n",
      "apiVersion: v1\n",
      "kind: Pod\n",
      "metadata:\n",
      "  name: \"release-name-test-demo-helm-201-test-connection\"\n",
      "  labels:\n",
      "    helm.sh/chart: demo-helm-201-0.1.0\n",
      "    app.kubernetes.io/name: demo-helm-201\n",
      "    app.kubernetes.io/instance: release-name-test\n",
      "    app.kubernetes.io/version: \"1.16.0\"\n",
      "    app.kubernetes.io/managed-by: Helm\n",
      "  annotations:\n",
      "    \"helm.sh/hook\": test-success\n",
      "spec:\n",
      "  containers:\n",
      "    - name: wget\n",
      "      image: busybox\n",
      "      command: ['wget']\n",
      "      args: ['release-name-test-demo-helm-201:8001']\n",
      "  restartPolicy: Never\n"
     ]
    }
   ],
   "source": [
    "!echo \"Render entire chart - with *test* value file, to *NOT* override subchart fields\"\n",
    "\n",
    "!helm template release-name-test $wd_init/demo-helm-201 -f $wd_init/demo-helm-201/values.test.yaml --output-dir=work/out/test"
   ]
  },
  {
   "cell_type": "markdown",
   "metadata": {},
   "source": [
    "---\n",
    "---\n",
    "\n",
    "## Life Cycle and Hooks\n",
    "\n",
    "Hooks allows to execute specific resource definitions at defined points in the Helm life cycle.\n",
    "Available hooks\n",
    "\n",
    "* `pre-install`\n",
    "* `post-install`\n",
    "* `pre-delete`\n",
    "* `post-delete`\n",
    "* `pre-upgrade`\n",
    "* `post-upgrade`\n",
    "* `pre-rollback`\n",
    "* `post-rollback`\n",
    "* `test`\n",
    "\n",
    "Examples\n",
    "\n",
    "* prepare the installation and create specific resources beforehand (ConfigMap, Job etc)\n",
    "* clean up database before uninstalling application\n"
   ]
  },
  {
   "cell_type": "markdown",
   "metadata": {},
   "source": [
    "### Pre-Install and Post-Delete\n",
    "\n",
    "Example for `pre-install` and `post-delete` hook. Hooks are usual Kubernetes resource definitions with special annotations.\n",
    "\n",
    "```\n",
    "metadata:\n",
    "  annotations:\n",
    "    \"helm.sh/hook\": pre-install, post-delete\n",
    "    \"helm.sh/hook-weight\": \"-5\"\n",
    "    \"helm.sh/hook-delete-policy\": hook-succeeded\n",
    "```"
   ]
  },
  {
   "cell_type": "code",
   "execution_count": 50,
   "metadata": {},
   "outputs": [
    {
     "name": "stdout",
     "output_type": "stream",
     "text": [
      "Create new (sub)chart in the *charts* dir\n",
      "Creating work/helm-init/demo-helm-201/charts/demo-hook\n",
      "\u001b[01;34mwork/helm-init\u001b[00m\n",
      "└── \u001b[01;34mdemo-helm-201\u001b[00m\n",
      "    ├── Chart.yaml\n",
      "    ├── \u001b[01;34mcharts\u001b[00m\n",
      "    │   ├── \u001b[01;34mdemo-hook\u001b[00m\n",
      "    │   │   ├── Chart.yaml\n",
      "    │   │   ├── \u001b[01;34mcharts\u001b[00m\n",
      "    │   │   ├── \u001b[01;34mtemplates\u001b[00m\n",
      "    │   │   │   ├── NOTES.txt\n",
      "    │   │   │   ├── _helpers.tpl\n",
      "    │   │   │   ├── deployment.yaml\n",
      "    │   │   │   └── serviceaccount.yaml\n",
      "    │   │   └── values.yaml\n",
      "    │   └── \u001b[01;34mdemo-subchart\u001b[00m\n",
      "    │       ├── Chart.yaml\n",
      "    │       ├── \u001b[01;34mcharts\u001b[00m\n",
      "    │       ├── \u001b[01;34mtemplates\u001b[00m\n",
      "    │       │   └── 03_configmap.yaml\n",
      "    │       └── values.yaml\n",
      "    ├── \u001b[01;34mtemplates\u001b[00m\n",
      "    │   ├── NOTES.txt\n",
      "    │   ├── _helpers.tpl\n",
      "    │   ├── deployment.yaml\n",
      "    │   ├── ingress.yaml\n",
      "    │   ├── sa.yaml\n",
      "    │   ├── service.yaml\n",
      "    │   ├── serviceaccount.yaml\n",
      "    │   └── \u001b[01;34mtests\u001b[00m\n",
      "    │       └── test-connection.yaml\n",
      "    ├── values.pre.yaml\n",
      "    ├── values.test.yaml\n",
      "    └── values.yaml\n",
      "\n",
      "10 directories, 21 files\n"
     ]
    }
   ],
   "source": [
    "!echo \"Create new (sub)chart in the *charts* dir\"\n",
    "\n",
    "!helm create $wd_init/demo-helm-201/charts/demo-hook\n",
    "!rm -rf $wd_init/demo-helm-201/charts/demo-hook/templates/ingress.yaml\n",
    "!rm -rf $wd_init/demo-helm-201/charts/demo-hook/templates/service.yaml\n",
    "!rm -rf $wd_init/demo-helm-201/charts/demo-hook/templates/tests\n",
    "\n",
    "\n",
    "!tree $wd_init"
   ]
  },
  {
   "cell_type": "markdown",
   "metadata": {},
   "source": [
    "---\n",
    "\n",
    "* Action (04)\n",
    "  * create 2 jobs for different hooks\n",
    "  * install and upgrade"
   ]
  },
  {
   "cell_type": "code",
   "execution_count": 52,
   "metadata": {},
   "outputs": [
    {
     "name": "stdout",
     "output_type": "stream",
     "text": [
      "Install subchart for hook testing\n",
      "Release \"release-demo-hook-dev\" does not exist. Installing it now.\n",
      "NAME: release-demo-hook-dev\n",
      "LAST DEPLOYED: Sat Feb  5 19:13:12 2022\n",
      "NAMESPACE: demo-helm\n",
      "STATUS: deployed\n",
      "REVISION: 1\n",
      "TEST SUITE: None\n",
      "NOTES:\n",
      "1. Get the application URL by running these commands:\n",
      "  export POD_NAME=$(kubectl get pods --namespace demo-helm -l \"app.kubernetes.io/name=demo-hook,app.kubernetes.io/instance=release-demo-hook-dev\" -o jsonpath=\"{.items[0].metadata.name}\")\n",
      "  echo \"Visit http://127.0.0.1:8080 to use your application\"\n",
      "  kubectl --namespace demo-helm port-forward $POD_NAME 8080:80\n"
     ]
    }
   ],
   "source": [
    "!echo \"Install subchart for hook testing\"\n",
    "\n",
    "!echo \"some OCP permissions adjustments...\"\n",
    "!oc adm policy add-scc-to-user anyuid -z release-demo-hook-dev\n",
    "\n",
    "!helm upgrade --install release-demo-hook-dev $wd_init/demo-helm-201/charts/demo-hook -n demo-helm"
   ]
  },
  {
   "cell_type": "code",
   "execution_count": 57,
   "metadata": {},
   "outputs": [
    {
     "name": "stdout",
     "output_type": "stream",
     "text": [
      "Update subchart for hook testing now with job definitions\n",
      "Release \"release-demo-hook-dev\" has been upgraded. Happy Helming!\n",
      "NAME: release-demo-hook-dev\n",
      "LAST DEPLOYED: Sat Feb  5 19:31:55 2022\n",
      "NAMESPACE: demo-helm\n",
      "STATUS: deployed\n",
      "REVISION: 2\n",
      "TEST SUITE: None\n",
      "NOTES:\n",
      "1. Get the application URL by running these commands:\n",
      "  export POD_NAME=$(kubectl get pods --namespace demo-helm -l \"app.kubernetes.io/name=demo-hook,app.kubernetes.io/instance=release-demo-hook-dev\" -o jsonpath=\"{.items[0].metadata.name}\")\n",
      "  echo \"Visit http://127.0.0.1:8080 to use your application\"\n",
      "  kubectl --namespace demo-helm port-forward $POD_NAME 8080:80\n"
     ]
    }
   ],
   "source": [
    "!echo \"Update subchart for hook testing now with job definitions\"\n",
    "\n",
    "!helm upgrade --install release-demo-hook-dev $wd_init/demo-helm-201/charts/demo-hook -n demo-helm"
   ]
  },
  {
   "cell_type": "markdown",
   "metadata": {},
   "source": [
    "---\n",
    "\n",
    "* Action\n",
    "  * current `pods` and `jobs`\n",
    "  * events\n",
    "  * clean-up"
   ]
  },
  {
   "cell_type": "code",
   "execution_count": 58,
   "metadata": {},
   "outputs": [
    {
     "name": "stdout",
     "output_type": "stream",
     "text": [
      "Delete subchart which triggers hook\n",
      "release \"release-demo-hook-dev\" uninstalled\n"
     ]
    }
   ],
   "source": [
    "!echo \"Delete subchart which triggers hook\"\n",
    "\n",
    "!helm delete release-demo-hook-dev -n demo-helm"
   ]
  },
  {
   "cell_type": "markdown",
   "metadata": {},
   "source": [
    "---\n",
    "---\n",
    "\n",
    "## OCI Registry\n",
    "\n",
    "Helm 3 provides the option to store helm charts not only on a HTTP server, but also in a OCI Registry. This allows the option to hold the artifacts (container image and helm charts) in the same registry."
   ]
  },
  {
   "cell_type": "markdown",
   "metadata": {},
   "source": [
    "### Testing\n",
    "\n",
    "* Action\n",
    "  * use a local registry\n",
    "  * push a local helm chart\n",
    "  * install from OCI registry\n",
    "\n",
    "  "
   ]
  },
  {
   "cell_type": "code",
   "execution_count": 60,
   "metadata": {},
   "outputs": [
    {
     "name": "stdout",
     "output_type": "stream",
     "text": [
      "Run a local registry\n",
      "Error: error creating container storage: the container name \"registry\" is already in use by \"ef7052cabe86dca1e9b3c2b4fce12d377779ee2223edfa6918e793df65bc3cac\". You have to remove that container to be able to reuse that name.: that name is already in use\n"
     ]
    }
   ],
   "source": [
    "!echo \"Run a local registry\"\n",
    "\n",
    "!docker run -dp 5000:5000 --restart=always --name registry registry"
   ]
  },
  {
   "cell_type": "code",
   "execution_count": 66,
   "metadata": {},
   "outputs": [
    {
     "name": "stdout",
     "output_type": "stream",
     "text": [
      "Create helm package from the hook subchart\n",
      "...copy subchart in own dir for testing...\n",
      "...helm package...\n",
      "Successfully packaged chart and saved it to: work/helm-init/demo-hook-1.0.1.tgz\n",
      "Successfully packaged chart and saved it to: work/helm-init/demo-hook-1.0.2.tgz\n"
     ]
    }
   ],
   "source": [
    "!echo \"Create helm package from the hook subchart\"\n",
    "\n",
    "!echo \"...copy subchart in own dir for testing...\"\n",
    "!cp -r $wd_init/demo-helm-201/charts/demo-hook $wd_init/\n",
    "\n",
    "!echo \"...helm package...\"\n",
    "!helm package $wd_init/demo-hook --version 1.0.1 --destination $wd_init\n",
    "!helm package $wd_init/demo-hook --version 1.0.2 --destination $wd_init"
   ]
  },
  {
   "cell_type": "code",
   "execution_count": 67,
   "metadata": {},
   "outputs": [
    {
     "name": "stdout",
     "output_type": "stream",
     "text": [
      "Push helm package to registry\n",
      "...helm registry login...\n",
      "WARNING: Using --password via the CLI is insecure. Use --password-stdin.\n",
      "\u001b[36mINFO\u001b[0m[0000] Error logging in to endpoint, trying next endpoint  \u001b[36merror\u001b[0m=\"Get \\\"https://localhost:5000/v2/\\\": http: server gave HTTP response to HTTPS client\"\n",
      "Login Succeeded\n",
      "...helm package push...\n",
      "Pushed: localhost:5000/helm-charts/demo-hook:1.0.1\n",
      "Digest: sha256:415e4318e0477edf396f3c5b076ac005173d1aaadb05dbe412999a5d8e047411\n",
      "Pushed: localhost:5000/helm-charts/demo-hook:1.0.2\n",
      "Digest: sha256:3896b2bdbb803737abadc97f857c61eacc5b542cd5a7beff087406a344b1adc2\n"
     ]
    }
   ],
   "source": [
    "!echo \"Push helm package to registry\"\n",
    "\n",
    "!echo \"...helm registry login...\"\n",
    "!helm registry login -u testuser -p testpassword localhost:5000\n",
    "\n",
    "!echo \"...helm package push...\"\n",
    "!helm push $wd_init/demo-hook-1.0.1.tgz oci://localhost:5000/helm-charts\n",
    "!helm push $wd_init/demo-hook-1.0.2.tgz oci://localhost:5000/helm-charts"
   ]
  },
  {
   "cell_type": "code",
   "execution_count": 70,
   "metadata": {},
   "outputs": [
    {
     "name": "stdout",
     "output_type": "stream",
     "text": [
      "Verify helm package in OCI registry\n",
      "...show chart details...\n",
      "apiVersion: v2\n",
      "appVersion: 1.16.0\n",
      "description: A Helm chart for Kubernetes\n",
      "name: demo-hook\n",
      "type: application\n",
      "version: 1.0.2\n",
      "\n"
     ]
    }
   ],
   "source": [
    "!echo \"Verify helm package in OCI registry\"\n",
    "\n",
    "!echo \"...show chart details...\"\n",
    "!helm show chart oci://localhost:5000/helm-charts/demo-hook\n"
   ]
  },
  {
   "cell_type": "code",
   "execution_count": 72,
   "metadata": {},
   "outputs": [
    {
     "name": "stdout",
     "output_type": "stream",
     "text": [
      "Install (render) helm package directly from OCI registry\n",
      "wrote work/out/oci/demo-hook/templates/serviceaccount.yaml\n",
      "wrote work/out/oci/demo-hook/templates/deployment.yaml\n",
      "wrote work/out/oci/demo-hook/templates/04_job.yaml\n",
      "wrote work/out/oci/demo-hook/templates/04_job.yaml\n",
      "wrote work/out/oci/demo-hook/templates/04_job.yaml\n",
      "\n",
      "Error: failed to download \"oci://localhost:5000/helm-charts/demo-hook\" at version \"2.2.2\"\n"
     ]
    }
   ],
   "source": [
    "!echo \"Install (render) helm package directly from OCI registry\"\n",
    "\n",
    "!echo \"...render existing chart from registry...\"\n",
    "!helm template release-demo-hook-oci oci://localhost:5000/helm-charts/demo-hook --version 1.0.1 --output-dir=work/out/oci\n",
    "\n",
    "!echo \"...try to render non-existing chart from registry...\"\n",
    "!helm template release-demo-hook-oci oci://localhost:5000/helm-charts/demo-hook --version 2.2.2 --output-dir=work/out/oci\n"
   ]
  },
  {
   "cell_type": "markdown",
   "metadata": {},
   "source": [
    "---\n",
    "---\n",
    "\n",
    "## Misc\n",
    "\n",
    "Some additional details\n"
   ]
  },
  {
   "cell_type": "markdown",
   "metadata": {},
   "source": [
    "### Internal/Release State\n",
    "\n",
    "With Helm3 not Tiller exists anymore. All configuration and release state, including value files, is now stored in a `Secret` instead of a `ConfigMap`.\n"
   ]
  },
  {
   "cell_type": "code",
   "execution_count": 73,
   "metadata": {},
   "outputs": [
    {
     "name": "stdout",
     "output_type": "stream",
     "text": [
      "Install subchart\n",
      "Release \"release-demo-hook-state\" does not exist. Installing it now.\n",
      "I0206 10:47:50.174165   56123 request.go:665] Waited for 1.129503768s due to client-side throttling, not priority and fairness, request: GET:https://c113-e.eu-de.containers.cloud.ibm.com:30919/apis/discovery.k8s.io/v1beta1?timeout=32s\n",
      "NAME: release-demo-hook-state\n",
      "LAST DEPLOYED: Sun Feb  6 10:47:55 2022\n",
      "NAMESPACE: demo-helm\n",
      "STATUS: deployed\n",
      "REVISION: 1\n",
      "TEST SUITE: None\n",
      "NOTES:\n",
      "1. Get the application URL by running these commands:\n",
      "  export POD_NAME=$(kubectl get pods --namespace demo-helm -l \"app.kubernetes.io/name=demo-hook,app.kubernetes.io/instance=release-demo-hook-state\" -o jsonpath=\"{.items[0].metadata.name}\")\n",
      "  echo \"Visit http://127.0.0.1:8080 to use your application\"\n",
      "  kubectl --namespace demo-helm port-forward $POD_NAME 8080:80\n"
     ]
    }
   ],
   "source": [
    "!echo \"Install subchart\"\n",
    "\n",
    "!helm upgrade --install release-demo-hook-state $wd_init/demo-helm-201/charts/demo-hook -n demo-helm"
   ]
  },
  {
   "cell_type": "code",
   "execution_count": 74,
   "metadata": {},
   "outputs": [
    {
     "name": "stdout",
     "output_type": "stream",
     "text": [
      "List all existing helm releases\n",
      "NAME                   \tNAMESPACE\tREVISION\tUPDATED                             \tSTATUS  \tCHART          \tAPP VERSION\n",
      "release-demo-hook-state\tdemo-helm\t1       \t2022-02-06 10:47:55.639795 +0100 CET\tdeployed\tdemo-hook-0.1.0\t1.16.0     \n"
     ]
    }
   ],
   "source": [
    "!echo \"List all existing helm releases\"\n",
    "\n",
    "!helm list"
   ]
  },
  {
   "cell_type": "code",
   "execution_count": 75,
   "metadata": {},
   "outputs": [
    {
     "name": "stdout",
     "output_type": "stream",
     "text": [
      "Print out release information from Helm Release Secret\n",
      "\u001b[1;39m{\n",
      "  \u001b[0m\u001b[34;1m\"name\"\u001b[0m\u001b[1;39m: \u001b[0m\u001b[0;32m\"release-demo-hook-state\"\u001b[0m\u001b[1;39m,\n",
      "  \u001b[0m\u001b[34;1m\"info\"\u001b[0m\u001b[1;39m: \u001b[0m\u001b[1;39m{\n",
      "    \u001b[0m\u001b[34;1m\"first_deployed\"\u001b[0m\u001b[1;39m: \u001b[0m\u001b[0;32m\"2022-02-06T10:47:55.639795+01:00\"\u001b[0m\u001b[1;39m,\n",
      "    \u001b[0m\u001b[34;1m\"last_deployed\"\u001b[0m\u001b[1;39m: \u001b[0m\u001b[0;32m\"2022-02-06T10:47:55.639795+01:00\"\u001b[0m\u001b[1;39m,\n",
      "    \u001b[0m\u001b[34;1m\"deleted\"\u001b[0m\u001b[1;39m: \u001b[0m\u001b[0;32m\"\"\u001b[0m\u001b[1;39m,\n",
      "    \u001b[0m\u001b[34;1m\"description\"\u001b[0m\u001b[1;39m: \u001b[0m\u001b[0;32m\"Install complete\"\u001b[0m\u001b[1;39m,\n",
      "    \u001b[0m\u001b[34;1m\"status\"\u001b[0m\u001b[1;39m: \u001b[0m\u001b[0;32m\"deployed\"\u001b[0m\u001b[1;39m,\n",
      "    \u001b[0m\u001b[34;1m\"notes\"\u001b[0m\u001b[1;39m: \u001b[0m\u001b[0;32m\"1. Get the application URL by running these commands:\\n  export POD_NAME=$(kubectl get pods --namespace demo-helm -l \\\"app.kubernetes.io/name=demo-hook,app.kubernetes.io/instance=release-demo-hook-state\\\" -o jsonpath=\\\"{.items[0].metadata.name}\\\")\\n  echo \\\"Visit http://127.0.0.1:8080 to use your application\\\"\\n  kubectl --namespace demo-helm port-forward $POD_NAME 8080:80\\n\"\u001b[0m\u001b[1;39m\n",
      "  \u001b[1;39m}\u001b[0m\u001b[1;39m,\n",
      "  \u001b[0m\u001b[34;1m\"chart\"\u001b[0m\u001b[1;39m: \u001b[0m\u001b[1;39m{\n",
      "    \u001b[0m\u001b[34;1m\"metadata\"\u001b[0m\u001b[1;39m: \u001b[0m\u001b[1;39m{\n",
      "      \u001b[0m\u001b[34;1m\"name\"\u001b[0m\u001b[1;39m: \u001b[0m\u001b[0;32m\"demo-hook\"\u001b[0m\u001b[1;39m,\n",
      "      \u001b[0m\u001b[34;1m\"version\"\u001b[0m\u001b[1;39m: \u001b[0m\u001b[0;32m\"0.1.0\"\u001b[0m\u001b[1;39m,\n",
      "      \u001b[0m\u001b[34;1m\"description\"\u001b[0m\u001b[1;39m: \u001b[0m\u001b[0;32m\"A Helm chart for Kubernetes\"\u001b[0m\u001b[1;39m,\n",
      "      \u001b[0m\u001b[34;1m\"apiVersion\"\u001b[0m\u001b[1;39m: \u001b[0m\u001b[0;32m\"v2\"\u001b[0m\u001b[1;39m,\n",
      "      \u001b[0m\u001b[34;1m\"appVersion\"\u001b[0m\u001b[1;39m: \u001b[0m\u001b[0;32m\"1.16.0\"\u001b[0m\u001b[1;39m,\n",
      "      \u001b[0m\u001b[34;1m\"type\"\u001b[0m\u001b[1;39m: \u001b[0m\u001b[0;32m\"application\"\u001b[0m\u001b[1;39m\n",
      "    \u001b[1;39m}\u001b[0m\u001b[1;39m,\n",
      "    \u001b[0m\u001b[34;1m\"lock\"\u001b[0m\u001b[1;39m: \u001b[0m\u001b[1;30mnull\u001b[0m\u001b[1;39m,\n",
      "    \u001b[0m\u001b[34;1m\"templates\"\u001b[0m\u001b[1;39m: \u001b[0m\u001b[1;39m[\n",
      "      \u001b[1;39m{\n",
      "        \u001b[0m\u001b[34;1m\"name\"\u001b[0m\u001b[1;39m: \u001b[0m\u001b[0;32m\"templates/04_job.yaml\"\u001b[0m\u001b[1;39m,\n",
      "        \u001b[0m\u001b[34;1m\"data\"\u001b[0m\u001b[1;39m: \u001b[0m\u001b[0;32m\"IyBIZWxtIEhvb2s6IHByZS1pbnN0YWxsCi0tLQphcGlWZXJzaW9uOiBiYXRjaC92MQpraW5kOiBKb2IKbWV0YWRhdGE6CiAgbmFtZTogInt7IC5SZWxlYXNlLk5hbWUgfX0tam9iLXByZS1pbnN0YWxsIgogIGxhYmVsczoKICAgIGFwcC5rdWJlcm5ldGVzLmlvL21hbmFnZWQtYnk6IHt7IC5SZWxlYXNlLlNlcnZpY2UgfCBxdW90ZSB9fQogICAgYXBwLmt1YmVybmV0ZXMuaW8vaW5zdGFuY2U6IHt7IC5SZWxlYXNlLk5hbWUgfCBxdW90ZSB9fQogICAgaGVsbS5zaC9jaGFydDogInt7IC5DaGFydC5OYW1lIH19LXt7IC5DaGFydC5WZXJzaW9uIH19IgogIGFubm90YXRpb25zOgogICAgIyBIZWxtIEhvb2sgZGVmaW5pdGlvbgogICAgIyBwcmUtaW5zdGFsbCwgb3JkZXIvd2VpZ2h0IChzb3J0IGluIGFzY2VuZGluZyBvcmRlciksIGNsZWFuIHVwIGJlZm9yZSBuZXcgaG9vayAKICAgICJoZWxtLnNoL2hvb2siOiBwcmUtaW5zdGFsbCxwcmUtdXBncmFkZQogICAgImhlbG0uc2gvaG9vay13ZWlnaHQiOiAiLTUiCiAgICAiaGVsbS5zaC9ob29rLWRlbGV0ZS1wb2xpY3kiOiBiZWZvcmUtaG9vay1jcmVhdGlvbgpzcGVjOgogIHRlbXBsYXRlOgogICAgbWV0YWRhdGE6CiAgICAgIG5hbWU6ICJ7eyAuUmVsZWFzZS5OYW1lIH19LWpvYi1waSIKICAgICAgbGFiZWxzOgogICAgICAgIGFwcC5rdWJlcm5ldGVzLmlvL21hbmFnZWQtYnk6IHt7IC5SZWxlYXNlLlNlcnZpY2UgfCBxdW90ZSB9fQogICAgICAgIGFwcC5rdWJlcm5ldGVzLmlvL2luc3RhbmNlOiB7eyAuUmVsZWFzZS5OYW1lIHwgcXVvdGUgfX0KICAgICAgICBoZWxtLnNoL2NoYXJ0OiAie3sgLkNoYXJ0Lk5hbWUgfX0te3sgLkNoYXJ0LlZlcnNpb24gfX0iCiAgICBzcGVjOgogICAgICByZXN0YXJ0UG9saWN5OiBOZXZlcgogICAgICBjb250YWluZXJzOgogICAgICAtIG5hbWU6IHByZS1pbnN0YWxsLWpvYgogICAgICAgIGltYWdlOiAiYWxwaW5lOjMuMyIKICAgICAgICBjb21tYW5kOiBbIi9iaW4vc2xlZXAiLCIxMCJdCgotLS0KIyBIZWxtIEhvb2s6IHBvc3QtZGVsZXRlCmFwaVZlcnNpb246IGJhdGNoL3YxCmtpbmQ6IEpvYgptZXRhZGF0YToKICBuYW1lOiAie3sgLlJlbGVhc2UuTmFtZSB9fS1qb2ItcG9zdC1kZWxldGUiCiAgbGFiZWxzOgogICAgYXBwLmt1YmVybmV0ZXMuaW8vbWFuYWdlZC1ieToge3sgLlJlbGVhc2UuU2VydmljZSB8IHF1b3RlIH19CiAgICBhcHAua3ViZXJuZXRlcy5pby9pbnN0YW5jZToge3sgLlJlbGVhc2UuTmFtZSB8IHF1b3RlIH19CiAgICBoZWxtLnNoL2NoYXJ0OiAie3sgLkNoYXJ0Lk5hbWUgfX0te3sgLkNoYXJ0LlZlcnNpb24gfX0iCiAgYW5ub3RhdGlvbnM6CiAgICAjIEhlbG0gSG9vayBkZWZpbml0aW9uCiAgICAjIHByZS1pbnN0YWxsLCBvcmRlci93ZWlnaHQgKHNvcnQgaW4gYXNjZW5kaW5nIG9yZGVyKSwgY2xlYW4gdXAgYmVmb3JlIG5ldyBob29rCiAgICAiaGVsbS5zaC9ob29rIjogcG9zdC1kZWxldGUKICAgICJoZWxtLnNoL2hvb2std2VpZ2h0IjogIi01IgogICAgImhlbG0uc2gvaG9vay1kZWxldGUtcG9saWN5IjogYmVmb3JlLWhvb2stY3JlYXRpb24Kc3BlYzoKICB0ZW1wbGF0ZToKICAgIG1ldGFkYXRhOgogICAgICBuYW1lOiAie3sgLlJlbGVhc2UuTmFtZSB9fS1qb2ItcGQiCiAgICAgIGxhYmVsczoKICAgICAgICBhcHAua3ViZXJuZXRlcy5pby9tYW5hZ2VkLWJ5OiB7eyAuUmVsZWFzZS5TZXJ2aWNlIHwgcXVvdGUgfX0KICAgICAgICBhcHAua3ViZXJuZXRlcy5pby9pbnN0YW5jZToge3sgLlJlbGVhc2UuTmFtZSB8IHF1b3RlIH19CiAgICAgICAgaGVsbS5zaC9jaGFydDogInt7IC5DaGFydC5OYW1lIH19LXt7IC5DaGFydC5WZXJzaW9uIH19IgogICAgc3BlYzoKICAgICAgcmVzdGFydFBvbGljeTogTmV2ZXIKICAgICAgY29udGFpbmVyczoKICAgICAgLSBuYW1lOiBwb3N0LWRlbGV0ZS1qb2IKICAgICAgICBpbWFnZTogImFscGluZTozLjMiCiAgICAgICAgY29tbWFuZDogWyIvYmluL3NsZWVwIiwiMTAiXQ==\"\u001b[0m\u001b[1;39m\n",
      "      \u001b[1;39m}\u001b[0m\u001b[1;39m,\n",
      "      \u001b[1;39m{\n",
      "        \u001b[0m\u001b[34;1m\"name\"\u001b[0m\u001b[1;39m: \u001b[0m\u001b[0;32m\"templates/NOTES.txt\"\u001b[0m\u001b[1;39m,\n",
      "        \u001b[0m\u001b[34;1m\"data\"\u001b[0m\u001b[1;39m: \u001b[0m\u001b[0;32m\"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\"\u001b[0m\u001b[1;39m\n",
      "      \u001b[1;39m}\u001b[0m\u001b[1;39m,\n",
      "      \u001b[1;39m{\n",
      "        \u001b[0m\u001b[34;1m\"name\"\u001b[0m\u001b[1;39m: \u001b[0m\u001b[0;32m\"templates/_helpers.tpl\"\u001b[0m\u001b[1;39m,\n",
      "        \u001b[0m\u001b[34;1m\"data\"\u001b[0m\u001b[1;39m: \u001b[0m\u001b[0;32m\"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\"\u001b[0m\u001b[1;39m\n",
      "      \u001b[1;39m}\u001b[0m\u001b[1;39m,\n",
      "      \u001b[1;39m{\n",
      "        \u001b[0m\u001b[34;1m\"name\"\u001b[0m\u001b[1;39m: \u001b[0m\u001b[0;32m\"templates/deployment.yaml\"\u001b[0m\u001b[1;39m,\n",
      "        \u001b[0m\u001b[34;1m\"data\"\u001b[0m\u001b[1;39m: \u001b[0m\u001b[0;32m\"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\"\u001b[0m\u001b[1;39m\n",
      "      \u001b[1;39m}\u001b[0m\u001b[1;39m,\n",
      "      \u001b[1;39m{\n",
      "        \u001b[0m\u001b[34;1m\"name\"\u001b[0m\u001b[1;39m: \u001b[0m\u001b[0;32m\"templates/serviceaccount.yaml\"\u001b[0m\u001b[1;39m,\n",
      "        \u001b[0m\u001b[34;1m\"data\"\u001b[0m\u001b[1;39m: \u001b[0m\u001b[0;32m\"e3stIGlmIC5WYWx1ZXMuc2VydmljZUFjY291bnQuY3JlYXRlIC19fQphcGlWZXJzaW9uOiB2MQpraW5kOiBTZXJ2aWNlQWNjb3VudAptZXRhZGF0YToKICBuYW1lOiB7eyBpbmNsdWRlICJkZW1vLWhvb2suc2VydmljZUFjY291bnROYW1lIiAuIH19CiAgbGFiZWxzOgogICAge3stIGluY2x1ZGUgImRlbW8taG9vay5sYWJlbHMiIC4gfCBuaW5kZW50IDQgfX0KICB7ey0gd2l0aCAuVmFsdWVzLnNlcnZpY2VBY2NvdW50LmFubm90YXRpb25zIH19CiAgYW5ub3RhdGlvbnM6CiAgICB7ey0gdG9ZYW1sIC4gfCBuaW5kZW50IDQgfX0KICB7ey0gZW5kIH19Cnt7LSBlbmQgLX19Cg==\"\u001b[0m\u001b[1;39m\n",
      "      \u001b[1;39m}\u001b[0m\u001b[1;39m\n",
      "    \u001b[1;39m]\u001b[0m\u001b[1;39m,\n",
      "    \u001b[0m\u001b[34;1m\"values\"\u001b[0m\u001b[1;39m: \u001b[0m\u001b[1;39m{\n",
      "      \u001b[0m\u001b[34;1m\"affinity\"\u001b[0m\u001b[1;39m: \u001b[0m\u001b[1;39m{}\u001b[0m\u001b[1;39m,\n",
      "      \u001b[0m\u001b[34;1m\"fullnameOverride\"\u001b[0m\u001b[1;39m: \u001b[0m\u001b[0;32m\"\"\u001b[0m\u001b[1;39m,\n",
      "      \u001b[0m\u001b[34;1m\"image\"\u001b[0m\u001b[1;39m: \u001b[0m\u001b[1;39m{\n",
      "        \u001b[0m\u001b[34;1m\"pullPolicy\"\u001b[0m\u001b[1;39m: \u001b[0m\u001b[0;32m\"IfNotPresent\"\u001b[0m\u001b[1;39m,\n",
      "        \u001b[0m\u001b[34;1m\"repository\"\u001b[0m\u001b[1;39m: \u001b[0m\u001b[0;32m\"nginx\"\u001b[0m\u001b[1;39m\n",
      "      \u001b[1;39m}\u001b[0m\u001b[1;39m,\n",
      "      \u001b[0m\u001b[34;1m\"imagePullSecrets\"\u001b[0m\u001b[1;39m: \u001b[0m\u001b[1;39m[]\u001b[0m\u001b[1;39m,\n",
      "      \u001b[0m\u001b[34;1m\"ingress\"\u001b[0m\u001b[1;39m: \u001b[0m\u001b[1;39m{\n",
      "        \u001b[0m\u001b[34;1m\"annotations\"\u001b[0m\u001b[1;39m: \u001b[0m\u001b[1;39m{}\u001b[0m\u001b[1;39m,\n",
      "        \u001b[0m\u001b[34;1m\"enabled\"\u001b[0m\u001b[1;39m: \u001b[0m\u001b[0;39mfalse\u001b[0m\u001b[1;39m,\n",
      "        \u001b[0m\u001b[34;1m\"hosts\"\u001b[0m\u001b[1;39m: \u001b[0m\u001b[1;39m[\n",
      "          \u001b[1;39m{\n",
      "            \u001b[0m\u001b[34;1m\"host\"\u001b[0m\u001b[1;39m: \u001b[0m\u001b[0;32m\"chart-example.local\"\u001b[0m\u001b[1;39m,\n",
      "            \u001b[0m\u001b[34;1m\"paths\"\u001b[0m\u001b[1;39m: \u001b[0m\u001b[1;39m[]\u001b[0m\u001b[1;39m\n",
      "          \u001b[1;39m}\u001b[0m\u001b[1;39m\n",
      "        \u001b[1;39m]\u001b[0m\u001b[1;39m,\n",
      "        \u001b[0m\u001b[34;1m\"tls\"\u001b[0m\u001b[1;39m: \u001b[0m\u001b[1;39m[]\u001b[0m\u001b[1;39m\n",
      "      \u001b[1;39m}\u001b[0m\u001b[1;39m,\n",
      "      \u001b[0m\u001b[34;1m\"nameOverride\"\u001b[0m\u001b[1;39m: \u001b[0m\u001b[0;32m\"\"\u001b[0m\u001b[1;39m,\n",
      "      \u001b[0m\u001b[34;1m\"nodeSelector\"\u001b[0m\u001b[1;39m: \u001b[0m\u001b[1;39m{}\u001b[0m\u001b[1;39m,\n",
      "      \u001b[0m\u001b[34;1m\"podSecurityContext\"\u001b[0m\u001b[1;39m: \u001b[0m\u001b[1;39m{}\u001b[0m\u001b[1;39m,\n",
      "      \u001b[0m\u001b[34;1m\"replicaCount\"\u001b[0m\u001b[1;39m: \u001b[0m\u001b[0;39m1\u001b[0m\u001b[1;39m,\n",
      "      \u001b[0m\u001b[34;1m\"resources\"\u001b[0m\u001b[1;39m: \u001b[0m\u001b[1;39m{}\u001b[0m\u001b[1;39m,\n",
      "      \u001b[0m\u001b[34;1m\"securityContext\"\u001b[0m\u001b[1;39m: \u001b[0m\u001b[1;39m{}\u001b[0m\u001b[1;39m,\n",
      "      \u001b[0m\u001b[34;1m\"service\"\u001b[0m\u001b[1;39m: \u001b[0m\u001b[1;39m{\n",
      "        \u001b[0m\u001b[34;1m\"port\"\u001b[0m\u001b[1;39m: \u001b[0m\u001b[0;39m80\u001b[0m\u001b[1;39m,\n",
      "        \u001b[0m\u001b[34;1m\"type\"\u001b[0m\u001b[1;39m: \u001b[0m\u001b[0;32m\"ClusterIP\"\u001b[0m\u001b[1;39m\n",
      "      \u001b[1;39m}\u001b[0m\u001b[1;39m,\n",
      "      \u001b[0m\u001b[34;1m\"serviceAccount\"\u001b[0m\u001b[1;39m: \u001b[0m\u001b[1;39m{\n",
      "        \u001b[0m\u001b[34;1m\"annotations\"\u001b[0m\u001b[1;39m: \u001b[0m\u001b[1;39m{}\u001b[0m\u001b[1;39m,\n",
      "        \u001b[0m\u001b[34;1m\"create\"\u001b[0m\u001b[1;39m: \u001b[0m\u001b[0;39mtrue\u001b[0m\u001b[1;39m,\n",
      "        \u001b[0m\u001b[34;1m\"name\"\u001b[0m\u001b[1;39m: \u001b[0m\u001b[1;30mnull\u001b[0m\u001b[1;39m\n",
      "      \u001b[1;39m}\u001b[0m\u001b[1;39m,\n",
      "      \u001b[0m\u001b[34;1m\"tolerations\"\u001b[0m\u001b[1;39m: \u001b[0m\u001b[1;39m[]\u001b[0m\u001b[1;39m\n",
      "    \u001b[1;39m}\u001b[0m\u001b[1;39m,\n",
      "    \u001b[0m\u001b[34;1m\"schema\"\u001b[0m\u001b[1;39m: \u001b[0m\u001b[1;30mnull\u001b[0m\u001b[1;39m,\n",
      "    \u001b[0m\u001b[34;1m\"files\"\u001b[0m\u001b[1;39m: \u001b[0m\u001b[1;39m[\n",
      "      \u001b[1;39m{\n",
      "        \u001b[0m\u001b[34;1m\"name\"\u001b[0m\u001b[1;39m: \u001b[0m\u001b[0;32m\".helmignore\"\u001b[0m\u001b[1;39m,\n",
      "        \u001b[0m\u001b[34;1m\"data\"\u001b[0m\u001b[1;39m: \u001b[0m\u001b[0;32m\"IyBQYXR0ZXJucyB0byBpZ25vcmUgd2hlbiBidWlsZGluZyBwYWNrYWdlcy4KIyBUaGlzIHN1cHBvcnRzIHNoZWxsIGdsb2IgbWF0Y2hpbmcsIHJlbGF0aXZlIHBhdGggbWF0Y2hpbmcsIGFuZAojIG5lZ2F0aW9uIChwcmVmaXhlZCB3aXRoICEpLiBPbmx5IG9uZSBwYXR0ZXJuIHBlciBsaW5lLgouRFNfU3RvcmUKIyBDb21tb24gVkNTIGRpcnMKLmdpdC8KLmdpdGlnbm9yZQouYnpyLwouYnpyaWdub3JlCi5oZy8KLmhnaWdub3JlCi5zdm4vCiMgQ29tbW9uIGJhY2t1cCBmaWxlcwoqLnN3cAoqLmJhawoqLnRtcAoqLm9yaWcKKn4KIyBWYXJpb3VzIElERXMKLnByb2plY3QKLmlkZWEvCioudG1wcm9qCi52c2NvZGUvCg==\"\u001b[0m\u001b[1;39m\n",
      "      \u001b[1;39m}\u001b[0m\u001b[1;39m\n",
      "    \u001b[1;39m]\u001b[0m\u001b[1;39m\n",
      "  \u001b[1;39m}\u001b[0m\u001b[1;39m,\n",
      "  \u001b[0m\u001b[34;1m\"manifest\"\u001b[0m\u001b[1;39m: \u001b[0m\u001b[0;32m\"---\\n# Source: demo-hook/templates/serviceaccount.yaml\\napiVersion: v1\\nkind: ServiceAccount\\nmetadata:\\n  name: release-demo-hook-state\\n  labels:\\n    helm.sh/chart: demo-hook-0.1.0\\n    app.kubernetes.io/name: demo-hook\\n    app.kubernetes.io/instance: release-demo-hook-state\\n    app.kubernetes.io/version: \\\"1.16.0\\\"\\n    app.kubernetes.io/managed-by: Helm\\n---\\n# Source: demo-hook/templates/deployment.yaml\\napiVersion: apps/v1\\nkind: Deployment\\nmetadata:\\n  name: release-demo-hook-state\\n  labels:\\n    helm.sh/chart: demo-hook-0.1.0\\n    app.kubernetes.io/name: demo-hook\\n    app.kubernetes.io/instance: release-demo-hook-state\\n    app.kubernetes.io/version: \\\"1.16.0\\\"\\n    app.kubernetes.io/managed-by: Helm\\nspec:\\n  replicas: 1\\n  selector:\\n    matchLabels:\\n      app.kubernetes.io/name: demo-hook\\n      app.kubernetes.io/instance: release-demo-hook-state\\n  template:\\n    metadata:\\n      labels:\\n        app.kubernetes.io/name: demo-hook\\n        app.kubernetes.io/instance: release-demo-hook-state\\n    spec:\\n      serviceAccountName: release-demo-hook-state\\n      securityContext:\\n        {}\\n      containers:\\n        - name: demo-hook\\n          securityContext:\\n            {}\\n          image: \\\"nginx:1.16.0\\\"\\n          imagePullPolicy: IfNotPresent\\n          ports:\\n            - name: http\\n              containerPort: 80\\n              protocol: TCP\\n          livenessProbe:\\n            httpGet:\\n              path: /\\n              port: http\\n          readinessProbe:\\n            httpGet:\\n              path: /\\n              port: http\\n          resources:\\n            {}\\n---\\n# Source: demo-hook/templates/04_job.yaml\\n# Helm Hook: pre-install\\n\"\u001b[0m\u001b[1;39m,\n",
      "  \u001b[0m\u001b[34;1m\"hooks\"\u001b[0m\u001b[1;39m: \u001b[0m\u001b[1;39m[\n",
      "    \u001b[1;39m{\n",
      "      \u001b[0m\u001b[34;1m\"name\"\u001b[0m\u001b[1;39m: \u001b[0m\u001b[0;32m\"release-demo-hook-state-job-pre-install\"\u001b[0m\u001b[1;39m,\n",
      "      \u001b[0m\u001b[34;1m\"kind\"\u001b[0m\u001b[1;39m: \u001b[0m\u001b[0;32m\"Job\"\u001b[0m\u001b[1;39m,\n",
      "      \u001b[0m\u001b[34;1m\"path\"\u001b[0m\u001b[1;39m: \u001b[0m\u001b[0;32m\"demo-hook/templates/04_job.yaml\"\u001b[0m\u001b[1;39m,\n",
      "      \u001b[0m\u001b[34;1m\"manifest\"\u001b[0m\u001b[1;39m: \u001b[0m\u001b[0;32m\"apiVersion: batch/v1\\nkind: Job\\nmetadata:\\n  name: \\\"release-demo-hook-state-job-pre-install\\\"\\n  labels:\\n    app.kubernetes.io/managed-by: \\\"Helm\\\"\\n    app.kubernetes.io/instance: \\\"release-demo-hook-state\\\"\\n    helm.sh/chart: \\\"demo-hook-0.1.0\\\"\\n  annotations:\\n    # Helm Hook definition\\n    # pre-install, order/weight (sort in ascending order), clean up before new hook \\n    \\\"helm.sh/hook\\\": pre-install,pre-upgrade\\n    \\\"helm.sh/hook-weight\\\": \\\"-5\\\"\\n    \\\"helm.sh/hook-delete-policy\\\": before-hook-creation\\nspec:\\n  template:\\n    metadata:\\n      name: \\\"release-demo-hook-state-job-pi\\\"\\n      labels:\\n        app.kubernetes.io/managed-by: \\\"Helm\\\"\\n        app.kubernetes.io/instance: \\\"release-demo-hook-state\\\"\\n        helm.sh/chart: \\\"demo-hook-0.1.0\\\"\\n    spec:\\n      restartPolicy: Never\\n      containers:\\n      - name: pre-install-job\\n        image: \\\"alpine:3.3\\\"\\n        command: [\\\"/bin/sleep\\\",\\\"10\\\"]\"\u001b[0m\u001b[1;39m,\n",
      "      \u001b[0m\u001b[34;1m\"events\"\u001b[0m\u001b[1;39m: \u001b[0m\u001b[1;39m[\n",
      "        \u001b[0;32m\"pre-install\"\u001b[0m\u001b[1;39m,\n",
      "        \u001b[0;32m\"pre-upgrade\"\u001b[0m\u001b[1;39m\n",
      "      \u001b[1;39m]\u001b[0m\u001b[1;39m,\n",
      "      \u001b[0m\u001b[34;1m\"last_run\"\u001b[0m\u001b[1;39m: \u001b[0m\u001b[1;39m{\n",
      "        \u001b[0m\u001b[34;1m\"started_at\"\u001b[0m\u001b[1;39m: \u001b[0m\u001b[0;32m\"2022-02-06T10:47:57.217843+01:00\"\u001b[0m\u001b[1;39m,\n",
      "        \u001b[0m\u001b[34;1m\"completed_at\"\u001b[0m\u001b[1;39m: \u001b[0m\u001b[0;32m\"2022-02-06T10:48:11.491714+01:00\"\u001b[0m\u001b[1;39m,\n",
      "        \u001b[0m\u001b[34;1m\"phase\"\u001b[0m\u001b[1;39m: \u001b[0m\u001b[0;32m\"Succeeded\"\u001b[0m\u001b[1;39m\n",
      "      \u001b[1;39m}\u001b[0m\u001b[1;39m,\n",
      "      \u001b[0m\u001b[34;1m\"weight\"\u001b[0m\u001b[1;39m: \u001b[0m\u001b[0;39m-5\u001b[0m\u001b[1;39m,\n",
      "      \u001b[0m\u001b[34;1m\"delete_policies\"\u001b[0m\u001b[1;39m: \u001b[0m\u001b[1;39m[\n",
      "        \u001b[0;32m\"before-hook-creation\"\u001b[0m\u001b[1;39m\n",
      "      \u001b[1;39m]\u001b[0m\u001b[1;39m\n",
      "    \u001b[1;39m}\u001b[0m\u001b[1;39m,\n",
      "    \u001b[1;39m{\n",
      "      \u001b[0m\u001b[34;1m\"name\"\u001b[0m\u001b[1;39m: \u001b[0m\u001b[0;32m\"release-demo-hook-state-job-post-delete\"\u001b[0m\u001b[1;39m,\n",
      "      \u001b[0m\u001b[34;1m\"kind\"\u001b[0m\u001b[1;39m: \u001b[0m\u001b[0;32m\"Job\"\u001b[0m\u001b[1;39m,\n",
      "      \u001b[0m\u001b[34;1m\"path\"\u001b[0m\u001b[1;39m: \u001b[0m\u001b[0;32m\"demo-hook/templates/04_job.yaml\"\u001b[0m\u001b[1;39m,\n",
      "      \u001b[0m\u001b[34;1m\"manifest\"\u001b[0m\u001b[1;39m: \u001b[0m\u001b[0;32m\"# Helm Hook: post-delete\\napiVersion: batch/v1\\nkind: Job\\nmetadata:\\n  name: \\\"release-demo-hook-state-job-post-delete\\\"\\n  labels:\\n    app.kubernetes.io/managed-by: \\\"Helm\\\"\\n    app.kubernetes.io/instance: \\\"release-demo-hook-state\\\"\\n    helm.sh/chart: \\\"demo-hook-0.1.0\\\"\\n  annotations:\\n    # Helm Hook definition\\n    # pre-install, order/weight (sort in ascending order), clean up before new hook\\n    \\\"helm.sh/hook\\\": post-delete\\n    \\\"helm.sh/hook-weight\\\": \\\"-5\\\"\\n    \\\"helm.sh/hook-delete-policy\\\": before-hook-creation\\nspec:\\n  template:\\n    metadata:\\n      name: \\\"release-demo-hook-state-job-pd\\\"\\n      labels:\\n        app.kubernetes.io/managed-by: \\\"Helm\\\"\\n        app.kubernetes.io/instance: \\\"release-demo-hook-state\\\"\\n        helm.sh/chart: \\\"demo-hook-0.1.0\\\"\\n    spec:\\n      restartPolicy: Never\\n      containers:\\n      - name: post-delete-job\\n        image: \\\"alpine:3.3\\\"\\n        command: [\\\"/bin/sleep\\\",\\\"10\\\"]\"\u001b[0m\u001b[1;39m,\n",
      "      \u001b[0m\u001b[34;1m\"events\"\u001b[0m\u001b[1;39m: \u001b[0m\u001b[1;39m[\n",
      "        \u001b[0;32m\"post-delete\"\u001b[0m\u001b[1;39m\n",
      "      \u001b[1;39m]\u001b[0m\u001b[1;39m,\n",
      "      \u001b[0m\u001b[34;1m\"last_run\"\u001b[0m\u001b[1;39m: \u001b[0m\u001b[1;39m{\n",
      "        \u001b[0m\u001b[34;1m\"started_at\"\u001b[0m\u001b[1;39m: \u001b[0m\u001b[0;32m\"\"\u001b[0m\u001b[1;39m,\n",
      "        \u001b[0m\u001b[34;1m\"completed_at\"\u001b[0m\u001b[1;39m: \u001b[0m\u001b[0;32m\"\"\u001b[0m\u001b[1;39m,\n",
      "        \u001b[0m\u001b[34;1m\"phase\"\u001b[0m\u001b[1;39m: \u001b[0m\u001b[0;32m\"\"\u001b[0m\u001b[1;39m\n",
      "      \u001b[1;39m}\u001b[0m\u001b[1;39m,\n",
      "      \u001b[0m\u001b[34;1m\"weight\"\u001b[0m\u001b[1;39m: \u001b[0m\u001b[0;39m-5\u001b[0m\u001b[1;39m,\n",
      "      \u001b[0m\u001b[34;1m\"delete_policies\"\u001b[0m\u001b[1;39m: \u001b[0m\u001b[1;39m[\n",
      "        \u001b[0;32m\"before-hook-creation\"\u001b[0m\u001b[1;39m\n",
      "      \u001b[1;39m]\u001b[0m\u001b[1;39m\n",
      "    \u001b[1;39m}\u001b[0m\u001b[1;39m\n",
      "  \u001b[1;39m]\u001b[0m\u001b[1;39m,\n",
      "  \u001b[0m\u001b[34;1m\"version\"\u001b[0m\u001b[1;39m: \u001b[0m\u001b[0;39m1\u001b[0m\u001b[1;39m,\n",
      "  \u001b[0m\u001b[34;1m\"namespace\"\u001b[0m\u001b[1;39m: \u001b[0m\u001b[0;32m\"demo-helm\"\u001b[0m\u001b[1;39m\n",
      "\u001b[1;39m}\u001b[0m\n"
     ]
    }
   ],
   "source": [
    "!echo \"Print out release information from Helm Release Secret\"\n",
    "\n",
    "!oc get secret sh.helm.release.v1.release-demo-hook-state.v1 -o jsonpath='{.data.release}' | base64 --decode | base64 --decode | gunzip -c | jq"
   ]
  },
  {
   "cell_type": "markdown",
   "metadata": {},
   "source": [
    "### Helm Upgrade and force re-deployment\n",
    "\n",
    "Helm determines the relevant changes and updates only the necessary resources. In case the content of a `ConfigMap` changed, but not the image version, a redeployment or restart of the deployment will be not triggered.\n",
    "To trigger a redeployment a relation between `ConfigMap` content and `Deployment` is needed\n",
    "\n",
    "```\n",
    "kind: Deployment\n",
    "spec:\n",
    "  template:\n",
    "    metadata:\n",
    "      annotations:\n",
    "        checksum/config: {{ include (print $.Template.BasePath \"/configmap.yaml\") . | sha256sum }}\n",
    "```\n",
    "\n",
    "The idea is, that the `Deployment` contains an annotation with a checksum of the related `ConfigMap`. Any changes in the content, results in an other `sha256sum`, results in an other annotation, which results in modified `Deployment` definition."
   ]
  },
  {
   "cell_type": "markdown",
   "metadata": {},
   "source": [
    "## Summary\n",
    "\n",
    "This was a walkthrough for Helm 201 with covering topics like\n",
    "\n",
    "* templating\n",
    "* charts and subcharts\n",
    "* OCI Registry"
   ]
  },
  {
   "cell_type": "markdown",
   "metadata": {},
   "source": [
    "## References\n",
    "\n",
    "* [Helm - Storage Provider - Secret instead ConfigMap](https://helm.sh/docs/topics/advanced/#storage-backends)\n",
    "* [Helm - (OCI) Registry](https://helm.sh/docs/topics/registries/)\n",
    "* [Helm - Best Practices](https://helm.sh/docs/chart_best_practices/conventions/)\n",
    "* [Helm - Template Guide](https://helm.sh/docs/chart_template_guide/getting_started/)"
   ]
  }
 ],
 "metadata": {
  "interpreter": {
   "hash": "aee8b7b246df8f9039afb4144a1f6fd8d2ca17a180786b69acc140d282b71a49"
  },
  "kernelspec": {
   "display_name": "Python 3.9.9 64-bit",
   "language": "python",
   "name": "python3"
  },
  "language_info": {
   "codemirror_mode": {
    "name": "ipython",
    "version": 3
   },
   "file_extension": ".py",
   "mimetype": "text/x-python",
   "name": "python",
   "nbconvert_exporter": "python",
   "pygments_lexer": "ipython3",
   "version": "3.9.9"
  },
  "orig_nbformat": 4
 },
 "nbformat": 4,
 "nbformat_minor": 2
}
